{
 "cells": [
  {
   "cell_type": "markdown",
   "id": "0e5d3900",
   "metadata": {},
   "source": [
    "# GRIP: The Sparks Foundation\n",
    "\n",
    "## Name: Badavath Tharun\n"
   ]
  },
  {
   "cell_type": "markdown",
   "id": "7e9cf063",
   "metadata": {},
   "source": [
    "## _Data Science and Business Analytics Intern_\n",
    "\n",
    "### Task 1 : Prediction Using Supervised ML"
   ]
  },
  {
   "cell_type": "markdown",
   "id": "2b87afc9",
   "metadata": {},
   "source": [
    "1: Predict the percentage of an student based on the no. of study hours.\n",
    "\n",
    "2: What will be predicted score if a student studies for 9.25 hrs/ day?\n",
    "\n",
    "● Data can be found at http://bit.ly/w-data\n"
   ]
  },
  {
   "cell_type": "markdown",
   "id": "30f4724d",
   "metadata": {
    "ExecuteTime": {
     "end_time": "2021-07-02T16:26:26.947615Z",
     "start_time": "2021-07-02T16:26:26.943655Z"
    }
   },
   "source": [
    "This is a simple linear regression task as it involves just 2 variables."
   ]
  },
  {
   "cell_type": "markdown",
   "id": "d99dbda2",
   "metadata": {},
   "source": [
    "## Step 1: Imports"
   ]
  },
  {
   "cell_type": "code",
   "execution_count": 44,
   "id": "968dc5b1",
   "metadata": {
    "ExecuteTime": {
     "end_time": "2022-06-27T11:35:55.600104Z",
     "start_time": "2022-06-27T11:35:55.587120Z"
    }
   },
   "outputs": [],
   "source": [
    "import numpy as np\n",
    "import pandas as pd\n",
    "import matplotlib.pyplot as plt\n",
    "import seaborn as sns\n",
    "plt.style.use('ggplot')"
   ]
  },
  {
   "cell_type": "code",
   "execution_count": 45,
   "id": "a877c909",
   "metadata": {
    "ExecuteTime": {
     "end_time": "2022-06-27T11:35:55.631104Z",
     "start_time": "2022-06-27T11:35:55.602104Z"
    }
   },
   "outputs": [],
   "source": [
    "df = pd.read_csv('https://raw.githubusercontent.com/AdiPersonalWorks/Random/master/student_scores%20-%20student_scores.csv')"
   ]
  },
  {
   "cell_type": "code",
   "execution_count": 46,
   "id": "d18a824b",
   "metadata": {
    "ExecuteTime": {
     "end_time": "2022-06-27T11:35:55.646104Z",
     "start_time": "2022-06-27T11:35:55.632105Z"
    }
   },
   "outputs": [
    {
     "data": {
      "text/html": [
       "<div>\n",
       "<style scoped>\n",
       "    .dataframe tbody tr th:only-of-type {\n",
       "        vertical-align: middle;\n",
       "    }\n",
       "\n",
       "    .dataframe tbody tr th {\n",
       "        vertical-align: top;\n",
       "    }\n",
       "\n",
       "    .dataframe thead th {\n",
       "        text-align: right;\n",
       "    }\n",
       "</style>\n",
       "<table border=\"1\" class=\"dataframe\">\n",
       "  <thead>\n",
       "    <tr style=\"text-align: right;\">\n",
       "      <th></th>\n",
       "      <th>Hours</th>\n",
       "      <th>Scores</th>\n",
       "    </tr>\n",
       "  </thead>\n",
       "  <tbody>\n",
       "    <tr>\n",
       "      <th>0</th>\n",
       "      <td>2.5</td>\n",
       "      <td>21</td>\n",
       "    </tr>\n",
       "    <tr>\n",
       "      <th>1</th>\n",
       "      <td>5.1</td>\n",
       "      <td>47</td>\n",
       "    </tr>\n",
       "    <tr>\n",
       "      <th>2</th>\n",
       "      <td>3.2</td>\n",
       "      <td>27</td>\n",
       "    </tr>\n",
       "    <tr>\n",
       "      <th>3</th>\n",
       "      <td>8.5</td>\n",
       "      <td>75</td>\n",
       "    </tr>\n",
       "    <tr>\n",
       "      <th>4</th>\n",
       "      <td>3.5</td>\n",
       "      <td>30</td>\n",
       "    </tr>\n",
       "  </tbody>\n",
       "</table>\n",
       "</div>"
      ],
      "text/plain": [
       "   Hours  Scores\n",
       "0    2.5      21\n",
       "1    5.1      47\n",
       "2    3.2      27\n",
       "3    8.5      75\n",
       "4    3.5      30"
      ]
     },
     "execution_count": 46,
     "metadata": {},
     "output_type": "execute_result"
    }
   ],
   "source": [
    "df.head()"
   ]
  },
  {
   "cell_type": "code",
   "execution_count": 47,
   "id": "0f394cad",
   "metadata": {
    "ExecuteTime": {
     "end_time": "2022-06-27T11:35:55.662113Z",
     "start_time": "2022-06-27T11:35:55.648104Z"
    }
   },
   "outputs": [
    {
     "name": "stdout",
     "output_type": "stream",
     "text": [
      "<class 'pandas.core.frame.DataFrame'>\n",
      "RangeIndex: 25 entries, 0 to 24\n",
      "Data columns (total 2 columns):\n",
      " #   Column  Non-Null Count  Dtype  \n",
      "---  ------  --------------  -----  \n",
      " 0   Hours   25 non-null     float64\n",
      " 1   Scores  25 non-null     int64  \n",
      "dtypes: float64(1), int64(1)\n",
      "memory usage: 528.0 bytes\n"
     ]
    }
   ],
   "source": [
    "df.info()"
   ]
  },
  {
   "cell_type": "code",
   "execution_count": 48,
   "id": "986ac93b",
   "metadata": {
    "ExecuteTime": {
     "end_time": "2022-06-27T11:35:55.677646Z",
     "start_time": "2022-06-27T11:35:55.664112Z"
    }
   },
   "outputs": [
    {
     "data": {
      "text/html": [
       "<div>\n",
       "<style scoped>\n",
       "    .dataframe tbody tr th:only-of-type {\n",
       "        vertical-align: middle;\n",
       "    }\n",
       "\n",
       "    .dataframe tbody tr th {\n",
       "        vertical-align: top;\n",
       "    }\n",
       "\n",
       "    .dataframe thead th {\n",
       "        text-align: right;\n",
       "    }\n",
       "</style>\n",
       "<table border=\"1\" class=\"dataframe\">\n",
       "  <thead>\n",
       "    <tr style=\"text-align: right;\">\n",
       "      <th></th>\n",
       "      <th>Hours</th>\n",
       "      <th>Scores</th>\n",
       "    </tr>\n",
       "  </thead>\n",
       "  <tbody>\n",
       "    <tr>\n",
       "      <th>count</th>\n",
       "      <td>25.000000</td>\n",
       "      <td>25.000000</td>\n",
       "    </tr>\n",
       "    <tr>\n",
       "      <th>mean</th>\n",
       "      <td>5.012000</td>\n",
       "      <td>51.480000</td>\n",
       "    </tr>\n",
       "    <tr>\n",
       "      <th>std</th>\n",
       "      <td>2.525094</td>\n",
       "      <td>25.286887</td>\n",
       "    </tr>\n",
       "    <tr>\n",
       "      <th>min</th>\n",
       "      <td>1.100000</td>\n",
       "      <td>17.000000</td>\n",
       "    </tr>\n",
       "    <tr>\n",
       "      <th>25%</th>\n",
       "      <td>2.700000</td>\n",
       "      <td>30.000000</td>\n",
       "    </tr>\n",
       "    <tr>\n",
       "      <th>50%</th>\n",
       "      <td>4.800000</td>\n",
       "      <td>47.000000</td>\n",
       "    </tr>\n",
       "    <tr>\n",
       "      <th>75%</th>\n",
       "      <td>7.400000</td>\n",
       "      <td>75.000000</td>\n",
       "    </tr>\n",
       "    <tr>\n",
       "      <th>max</th>\n",
       "      <td>9.200000</td>\n",
       "      <td>95.000000</td>\n",
       "    </tr>\n",
       "  </tbody>\n",
       "</table>\n",
       "</div>"
      ],
      "text/plain": [
       "           Hours     Scores\n",
       "count  25.000000  25.000000\n",
       "mean    5.012000  51.480000\n",
       "std     2.525094  25.286887\n",
       "min     1.100000  17.000000\n",
       "25%     2.700000  30.000000\n",
       "50%     4.800000  47.000000\n",
       "75%     7.400000  75.000000\n",
       "max     9.200000  95.000000"
      ]
     },
     "execution_count": 48,
     "metadata": {},
     "output_type": "execute_result"
    }
   ],
   "source": [
    "df.describe()"
   ]
  },
  {
   "cell_type": "markdown",
   "id": "9b54252f",
   "metadata": {},
   "source": [
    "## Step 2: Data Visualizations"
   ]
  },
  {
   "cell_type": "code",
   "execution_count": 49,
   "id": "01ea91d2",
   "metadata": {
    "ExecuteTime": {
     "end_time": "2022-06-27T11:35:56.444483Z",
     "start_time": "2022-06-27T11:35:55.679641Z"
    }
   },
   "outputs": [
    {
     "data": {
      "text/plain": [
       "<seaborn.axisgrid.PairGrid at 0x269e93f69d0>"
      ]
     },
     "execution_count": 49,
     "metadata": {},
     "output_type": "execute_result"
    },
    {
     "data": {
      "image/png": "[encoded data removed]",
      "text/plain": [
       "<Figure size 360x360 with 6 Axes>"
      ]
     },
     "metadata": {},
     "output_type": "display_data"
    }
   ],
   "source": [
    "sns.pairplot(df)"
   ]
  },
  {
   "cell_type": "code",
   "execution_count": 50,
   "id": "11afa7cb",
   "metadata": {
    "ExecuteTime": {
     "end_time": "2022-06-27T11:35:56.522324Z",
     "start_time": "2022-06-27T11:35:56.445484Z"
    }
   },
   "outputs": [
    {
     "data": {
      "text/plain": [
       "<matplotlib.axes._subplots.AxesSubplot at 0x269e7484f10>"
      ]
     },
     "execution_count": 50,
     "metadata": {},
     "output_type": "execute_result"
    },
    {
     "data": {
      "image/png": "[encoded data removed]",
      "text/plain": [
       "<Figure size 432x288 with 1 Axes>"
      ]
     },
     "metadata": {},
     "output_type": "display_data"
    }
   ],
   "source": [
    "sns.boxplot(data=df,x =\"Scores\")"
   ]
  },
  {
   "cell_type": "code",
   "execution_count": 51,
   "id": "30062926",
   "metadata": {
    "ExecuteTime": {
     "end_time": "2022-06-27T11:35:56.599568Z",
     "start_time": "2022-06-27T11:35:56.524324Z"
    }
   },
   "outputs": [
    {
     "data": {
      "text/plain": [
       "<matplotlib.axes._subplots.AxesSubplot at 0x269e74cb910>"
      ]
     },
     "execution_count": 51,
     "metadata": {},
     "output_type": "execute_result"
    },
    {
     "data": {
      "image/png": "[encoded data removed]",
      "text/plain": [
       "<Figure size 432x288 with 1 Axes>"
      ]
     },
     "metadata": {},
     "output_type": "display_data"
    }
   ],
   "source": [
    "sns.boxplot(data=df,x =\"Hours\")"
   ]
  },
  {
   "cell_type": "code",
   "execution_count": 52,
   "id": "24772252",
   "metadata": {
    "ExecuteTime": {
     "end_time": "2022-06-27T11:35:56.754654Z",
     "start_time": "2022-06-27T11:35:56.601563Z"
    }
   },
   "outputs": [
    {
     "data": {
      "text/plain": [
       "<seaborn.axisgrid.FacetGrid at 0x269e92532b0>"
      ]
     },
     "execution_count": 52,
     "metadata": {},
     "output_type": "execute_result"
    },
    {
     "data": {
      "image/png": "[encoded data removed]",
      "text/plain": [
       "<Figure size 360x360 with 1 Axes>"
      ]
     },
     "metadata": {},
     "output_type": "display_data"
    }
   ],
   "source": [
    "sns.displot(data=df, x=\"Scores\", bins=15)"
   ]
  },
  {
   "cell_type": "code",
   "execution_count": 53,
   "id": "8a5e2d7f",
   "metadata": {
    "ExecuteTime": {
     "end_time": "2022-06-27T11:35:56.908190Z",
     "start_time": "2022-06-27T11:35:56.757655Z"
    }
   },
   "outputs": [
    {
     "data": {
      "text/plain": [
       "<seaborn.axisgrid.FacetGrid at 0x269e9232640>"
      ]
     },
     "execution_count": 53,
     "metadata": {},
     "output_type": "execute_result"
    },
    {
     "data": {
      "image/png": "[encoded data removed]",
      "text/plain": [
       "<Figure size 360x360 with 1 Axes>"
      ]
     },
     "metadata": {},
     "output_type": "display_data"
    }
   ],
   "source": [
    "sns.displot(data=df, x='Hours',bins=15)"
   ]
  },
  {
   "cell_type": "code",
   "execution_count": 54,
   "id": "efe2b179",
   "metadata": {
    "ExecuteTime": {
     "end_time": "2022-06-27T11:35:56.999453Z",
     "start_time": "2022-06-27T11:35:56.910219Z"
    }
   },
   "outputs": [
    {
     "data": {
      "text/plain": [
       "<matplotlib.axes._subplots.AxesSubplot at 0x269e965d6d0>"
      ]
     },
     "execution_count": 54,
     "metadata": {},
     "output_type": "execute_result"
    },
    {
     "data": {
      "image/png": "[encoded data removed]",
      "text/plain": [
       "<Figure size 432x288 with 2 Axes>"
      ]
     },
     "metadata": {},
     "output_type": "display_data"
    }
   ],
   "source": [
    "sns.heatmap(df.corr(), cmap='viridis', annot=True)"
   ]
  },
  {
   "cell_type": "code",
   "execution_count": 55,
   "id": "fa560d21",
   "metadata": {
    "ExecuteTime": {
     "end_time": "2022-06-27T11:35:57.092961Z",
     "start_time": "2022-06-27T11:35:57.001454Z"
    }
   },
   "outputs": [
    {
     "data": {
      "text/plain": [
       "<matplotlib.axes._subplots.AxesSubplot at 0x269e96f9e50>"
      ]
     },
     "execution_count": 55,
     "metadata": {},
     "output_type": "execute_result"
    },
    {
     "data": {
      "image/png": "[encoded data removed]",
      "text/plain": [
       "<Figure size 432x288 with 1 Axes>"
      ]
     },
     "metadata": {},
     "output_type": "display_data"
    }
   ],
   "source": [
    "sns.scatterplot(data=df, x=\"Hours\", y=\"Scores\")"
   ]
  },
  {
   "cell_type": "code",
   "execution_count": 56,
   "id": "c4ed731b",
   "metadata": {
    "ExecuteTime": {
     "end_time": "2022-06-27T11:35:57.240847Z",
     "start_time": "2022-06-27T11:35:57.094996Z"
    }
   },
   "outputs": [
    {
     "data": {
      "text/plain": [
       "<matplotlib.axes._subplots.AxesSubplot at 0x269e976b820>"
      ]
     },
     "execution_count": 56,
     "metadata": {},
     "output_type": "execute_result"
    },
    {
     "data": {
      "image/png": "[encoded data removed]",
      "text/plain": [
       "<Figure size 432x288 with 1 Axes>"
      ]
     },
     "metadata": {},
     "output_type": "display_data"
    }
   ],
   "source": [
    "sns.regplot(data=df, x=\"Hours\", y=\"Scores\")"
   ]
  },
  {
   "cell_type": "markdown",
   "id": "4567e74b",
   "metadata": {},
   "source": [
    "We can use np.polyfit for simple regression instead of using sklearn, use help(np.polyfit) for more\n"
   ]
  },
  {
   "cell_type": "markdown",
   "id": "0e00e38c",
   "metadata": {},
   "source": [
    "Basically this method accepts x,y and degreee of model trying to fit and returns the coefficients (highest order first)"
   ]
  },
  {
   "cell_type": "markdown",
   "id": "2ed32aee",
   "metadata": {},
   "source": [
    "## Step 3: Prepare the data for model"
   ]
  },
  {
   "cell_type": "code",
   "execution_count": 57,
   "id": "8a3d5276",
   "metadata": {
    "ExecuteTime": {
     "end_time": "2022-06-27T11:35:57.256167Z",
     "start_time": "2022-06-27T11:35:57.242887Z"
    }
   },
   "outputs": [],
   "source": [
    "x = df['Hours']\n",
    "y = df['Scores']"
   ]
  },
  {
   "cell_type": "code",
   "execution_count": 58,
   "id": "6b42ab04",
   "metadata": {
    "ExecuteTime": {
     "end_time": "2022-06-27T11:35:57.271276Z",
     "start_time": "2022-06-27T11:35:57.258714Z"
    }
   },
   "outputs": [],
   "source": [
    "from sklearn.model_selection import train_test_split\n",
    "x_train, x_test, y_train, y_test = train_test_split(x,y,test_size=0.3)"
   ]
  },
  {
   "cell_type": "code",
   "execution_count": 59,
   "id": "5be2e726",
   "metadata": {
    "ExecuteTime": {
     "end_time": "2022-06-27T11:35:57.286830Z",
     "start_time": "2022-06-27T11:35:57.272678Z"
    }
   },
   "outputs": [],
   "source": [
    "#help(np.polyfit)"
   ]
  },
  {
   "cell_type": "markdown",
   "id": "bdc320a2",
   "metadata": {},
   "source": [
    "## Step 4: Training the model"
   ]
  },
  {
   "cell_type": "code",
   "execution_count": 60,
   "id": "dabc7eff",
   "metadata": {
    "ExecuteTime": {
     "end_time": "2022-06-27T11:35:57.302016Z",
     "start_time": "2022-06-27T11:35:57.288583Z"
    }
   },
   "outputs": [
    {
     "data": {
      "text/plain": [
       "array([9.32742109, 4.46628121])"
      ]
     },
     "execution_count": 60,
     "metadata": {},
     "output_type": "execute_result"
    }
   ],
   "source": [
    "coefs = np.polyfit(x_train,y_train,1)\n",
    "coefs"
   ]
  },
  {
   "cell_type": "code",
   "execution_count": 61,
   "id": "ed1900ce",
   "metadata": {
    "ExecuteTime": {
     "end_time": "2022-06-27T11:35:57.317642Z",
     "start_time": "2022-06-27T11:35:57.303549Z"
    }
   },
   "outputs": [],
   "source": [
    "def linear_model(future_hours):\n",
    "    return coefs[0]* future_hours + coefs[1]"
   ]
  },
  {
   "cell_type": "code",
   "execution_count": 62,
   "id": "26038720",
   "metadata": {
    "ExecuteTime": {
     "end_time": "2022-06-27T11:35:57.332889Z",
     "start_time": "2022-06-27T11:35:57.320000Z"
    }
   },
   "outputs": [],
   "source": [
    "future_hours = np.linspace(0,10,100)\n",
    "future_scores = linear_model(future_hours)"
   ]
  },
  {
   "cell_type": "markdown",
   "id": "ea8482f2",
   "metadata": {},
   "source": [
    " This is our Predicted Linear Regression Model"
   ]
  },
  {
   "cell_type": "code",
   "execution_count": 63,
   "id": "a6c85b3e",
   "metadata": {
    "ExecuteTime": {
     "end_time": "2022-06-27T11:35:57.425721Z",
     "start_time": "2022-06-27T11:35:57.335642Z"
    }
   },
   "outputs": [
    {
     "data": {
      "image/png": "[encoded data removed]",
      "text/plain": [
       "<Figure size 432x288 with 1 Axes>"
      ]
     },
     "metadata": {},
     "output_type": "display_data"
    }
   ],
   "source": [
    "plt.plot(future_hours,future_scores)\n",
    "plt.xlabel('Hours')\n",
    "plt.ylabel('Scores')\n",
    "plt.show()"
   ]
  },
  {
   "cell_type": "code",
   "execution_count": 64,
   "id": "52468919",
   "metadata": {
    "ExecuteTime": {
     "end_time": "2022-06-27T11:35:57.519867Z",
     "start_time": "2022-06-27T11:35:57.427721Z"
    }
   },
   "outputs": [
    {
     "data": {
      "image/png": "[encoded data removed]",
      "text/plain": [
       "<Figure size 432x288 with 1 Axes>"
      ]
     },
     "metadata": {},
     "output_type": "display_data"
    }
   ],
   "source": [
    "plt.plot(future_hours,future_scores)\n",
    "sns.scatterplot(x=x_train, y=y_train)\n",
    "plt.xlabel('Hours')\n",
    "plt.ylabel('Scores')\n",
    "plt.show()"
   ]
  },
  {
   "cell_type": "markdown",
   "id": "7c68b5ee",
   "metadata": {},
   "source": [
    "## Step 5: Model Evaluation | Performance Metrics"
   ]
  },
  {
   "cell_type": "code",
   "execution_count": 65,
   "id": "31757dd0",
   "metadata": {
    "ExecuteTime": {
     "end_time": "2022-06-27T11:35:57.535868Z",
     "start_time": "2022-06-27T11:35:57.521869Z"
    }
   },
   "outputs": [],
   "source": [
    "predictions = x_test.apply(linear_model)"
   ]
  },
  {
   "cell_type": "code",
   "execution_count": 66,
   "id": "ffef6cb1",
   "metadata": {
    "ExecuteTime": {
     "end_time": "2022-06-27T11:35:57.551165Z",
     "start_time": "2022-06-27T11:35:57.537878Z"
    }
   },
   "outputs": [],
   "source": [
    "from sklearn.metrics import mean_absolute_error, mean_squared_error, r2_score"
   ]
  },
  {
   "cell_type": "code",
   "execution_count": 67,
   "id": "c627ee7f",
   "metadata": {
    "ExecuteTime": {
     "end_time": "2022-06-27T11:35:57.566179Z",
     "start_time": "2022-06-27T11:35:57.553294Z"
    }
   },
   "outputs": [
    {
     "data": {
      "text/plain": [
       "5.610886201720814"
      ]
     },
     "execution_count": 67,
     "metadata": {},
     "output_type": "execute_result"
    }
   ],
   "source": [
    "mae = mean_absolute_error(y_test, predictions)\n",
    "mae"
   ]
  },
  {
   "cell_type": "code",
   "execution_count": 68,
   "id": "c8adc582",
   "metadata": {
    "ExecuteTime": {
     "end_time": "2022-06-27T11:35:57.581773Z",
     "start_time": "2022-06-27T11:35:57.568195Z"
    }
   },
   "outputs": [
    {
     "data": {
      "text/plain": [
       "6.164337416700112"
      ]
     },
     "execution_count": 68,
     "metadata": {},
     "output_type": "execute_result"
    }
   ],
   "source": [
    "rmse = np.sqrt(mean_squared_error(y_test, predictions))\n",
    "rmse"
   ]
  },
  {
   "cell_type": "markdown",
   "id": "099f6463",
   "metadata": {},
   "source": [
    "## Step 6: Retrain the model on whole data"
   ]
  },
  {
   "cell_type": "code",
   "execution_count": 69,
   "id": "cbbef66b",
   "metadata": {
    "ExecuteTime": {
     "end_time": "2022-06-27T11:35:57.597159Z",
     "start_time": "2022-06-27T11:35:57.584349Z"
    }
   },
   "outputs": [],
   "source": [
    "final_coefs = np.polyfit(x,y,1)"
   ]
  },
  {
   "cell_type": "code",
   "execution_count": 70,
   "id": "973b728a",
   "metadata": {
    "ExecuteTime": {
     "end_time": "2022-06-27T11:35:57.612427Z",
     "start_time": "2022-06-27T11:35:57.599196Z"
    }
   },
   "outputs": [
    {
     "name": "stdout",
     "output_type": "stream",
     "text": [
      "[9.77580339 2.48367341]\n"
     ]
    }
   ],
   "source": [
    "print(final_coefs)"
   ]
  },
  {
   "cell_type": "code",
   "execution_count": 71,
   "id": "e2ce3aed",
   "metadata": {
    "ExecuteTime": {
     "end_time": "2022-06-27T11:35:57.627691Z",
     "start_time": "2022-06-27T11:35:57.615982Z"
    }
   },
   "outputs": [],
   "source": [
    "def final_linear_model(future_hours):\n",
    "    return final_coefs[0]* future_hours + final_coefs[1]"
   ]
  },
  {
   "cell_type": "markdown",
   "id": "ea69efe2",
   "metadata": {},
   "source": [
    "### What will be predicted score if a student studies for 9.25 hrs/ day?"
   ]
  },
  {
   "cell_type": "code",
   "execution_count": 72,
   "id": "faf03274",
   "metadata": {
    "ExecuteTime": {
     "end_time": "2022-06-27T11:35:57.642569Z",
     "start_time": "2022-06-27T11:35:57.629726Z"
    }
   },
   "outputs": [
    {
     "data": {
      "text/plain": [
       "92.90985477015728"
      ]
     },
     "execution_count": 72,
     "metadata": {},
     "output_type": "execute_result"
    }
   ],
   "source": [
    "predicted_score = final_linear_model(9.25)\n",
    "predicted_score"
   ]
  },
  {
   "cell_type": "markdown",
   "id": "a508d6ef",
   "metadata": {},
   "source": [
    "# We can do the same task using scikit-learn too"
   ]
  },
  {
   "cell_type": "code",
   "execution_count": 73,
   "id": "6bcbe2ea",
   "metadata": {
    "ExecuteTime": {
     "end_time": "2022-06-27T11:35:57.658132Z",
     "start_time": "2022-06-27T11:35:57.644623Z"
    }
   },
   "outputs": [],
   "source": [
    "from sklearn.linear_model import LinearRegression"
   ]
  },
  {
   "cell_type": "code",
   "execution_count": 74,
   "id": "5babcb36",
   "metadata": {
    "ExecuteTime": {
     "end_time": "2022-06-27T11:35:57.673366Z",
     "start_time": "2022-06-27T11:35:57.660232Z"
    }
   },
   "outputs": [],
   "source": [
    "lm = LinearRegression()"
   ]
  },
  {
   "cell_type": "code",
   "execution_count": 75,
   "id": "962c6f28",
   "metadata": {
    "ExecuteTime": {
     "end_time": "2022-06-27T11:35:57.688822Z",
     "start_time": "2022-06-27T11:35:57.676360Z"
    }
   },
   "outputs": [],
   "source": [
    "x = df['Hours'].values.reshape(-1,1)\n",
    "y = df['Scores']"
   ]
  },
  {
   "cell_type": "code",
   "execution_count": 76,
   "id": "83605b29",
   "metadata": {
    "ExecuteTime": {
     "end_time": "2022-06-27T11:35:57.704348Z",
     "start_time": "2022-06-27T11:35:57.690978Z"
    }
   },
   "outputs": [],
   "source": [
    "from sklearn.model_selection import train_test_split\n",
    "x_train, x_test, y_train, y_test = train_test_split(x,y,test_size=0.3)"
   ]
  },
  {
   "cell_type": "code",
   "execution_count": 77,
   "id": "0430828a",
   "metadata": {
    "ExecuteTime": {
     "end_time": "2022-06-27T11:35:57.719658Z",
     "start_time": "2022-06-27T11:35:57.706374Z"
    }
   },
   "outputs": [
    {
     "data": {
      "text/plain": [
       "LinearRegression()"
      ]
     },
     "execution_count": 77,
     "metadata": {},
     "output_type": "execute_result"
    }
   ],
   "source": [
    "lm.fit(x_train, y_train)"
   ]
  },
  {
   "cell_type": "code",
   "execution_count": 78,
   "id": "18f723f6",
   "metadata": {
    "ExecuteTime": {
     "end_time": "2022-06-27T11:35:57.734594Z",
     "start_time": "2022-06-27T11:35:57.721837Z"
    }
   },
   "outputs": [
    {
     "data": {
      "text/plain": [
       "array([9.34462092])"
      ]
     },
     "execution_count": 78,
     "metadata": {},
     "output_type": "execute_result"
    }
   ],
   "source": [
    "lm.coef_"
   ]
  },
  {
   "cell_type": "code",
   "execution_count": 79,
   "id": "fb5b8cf6",
   "metadata": {
    "ExecuteTime": {
     "end_time": "2022-06-27T11:35:57.749866Z",
     "start_time": "2022-06-27T11:35:57.737137Z"
    }
   },
   "outputs": [
    {
     "data": {
      "text/plain": [
       "4.133258106410608"
      ]
     },
     "execution_count": 79,
     "metadata": {},
     "output_type": "execute_result"
    }
   ],
   "source": [
    "lm.intercept_"
   ]
  },
  {
   "cell_type": "code",
   "execution_count": 80,
   "id": "700383fc",
   "metadata": {
    "ExecuteTime": {
     "end_time": "2022-06-27T11:35:57.766177Z",
     "start_time": "2022-06-27T11:35:57.751896Z"
    }
   },
   "outputs": [],
   "source": [
    "predicted_scores = lm.predict(x_test)"
   ]
  },
  {
   "cell_type": "code",
   "execution_count": 81,
   "id": "ce9c3650",
   "metadata": {
    "ExecuteTime": {
     "end_time": "2022-06-27T11:35:57.781657Z",
     "start_time": "2022-06-27T11:35:57.768187Z"
    }
   },
   "outputs": [
    {
     "data": {
      "text/plain": [
       "array([14.41234112, 51.7908248 , 46.18405225, 77.02130128, 55.52867317,\n",
       "       61.13544572, 36.83943133, 87.3003843 ])"
      ]
     },
     "execution_count": 81,
     "metadata": {},
     "output_type": "execute_result"
    }
   ],
   "source": [
    "predicted_scores"
   ]
  },
  {
   "cell_type": "code",
   "execution_count": 82,
   "id": "e981a79e",
   "metadata": {
    "ExecuteTime": {
     "end_time": "2022-06-27T11:35:57.796728Z",
     "start_time": "2022-06-27T11:35:57.783698Z"
    }
   },
   "outputs": [
    {
     "data": {
      "text/plain": [
       "5.802020348527751"
      ]
     },
     "execution_count": 82,
     "metadata": {},
     "output_type": "execute_result"
    }
   ],
   "source": [
    "mae = mean_absolute_error(y_test, predicted_scores)\n",
    "mae"
   ]
  },
  {
   "cell_type": "code",
   "execution_count": 83,
   "id": "6fb55b8c",
   "metadata": {
    "ExecuteTime": {
     "end_time": "2022-06-27T11:35:57.812277Z",
     "start_time": "2022-06-27T11:35:57.798775Z"
    }
   },
   "outputs": [
    {
     "data": {
      "text/plain": [
       "6.099047799667496"
      ]
     },
     "execution_count": 83,
     "metadata": {},
     "output_type": "execute_result"
    }
   ],
   "source": [
    "rmse = mean_squared_error(y_test, predicted_scores)**0.5\n",
    "rmse"
   ]
  },
  {
   "cell_type": "code",
   "execution_count": 84,
   "id": "dacf4abf",
   "metadata": {
    "ExecuteTime": {
     "end_time": "2022-06-27T11:35:57.827644Z",
     "start_time": "2022-06-27T11:35:57.813874Z"
    }
   },
   "outputs": [
    {
     "data": {
      "text/plain": [
       "0.9411636166372179"
      ]
     },
     "execution_count": 84,
     "metadata": {},
     "output_type": "execute_result"
    }
   ],
   "source": [
    "r2_score(y_test, predicted_scores)"
   ]
  },
  {
   "cell_type": "markdown",
   "id": "29bc0dce",
   "metadata": {},
   "source": [
    "### Retrain on the whole data"
   ]
  },
  {
   "cell_type": "code",
   "execution_count": 85,
   "id": "7ff0c5d1",
   "metadata": {
    "ExecuteTime": {
     "end_time": "2022-06-27T11:35:57.842918Z",
     "start_time": "2022-06-27T11:35:57.830193Z"
    }
   },
   "outputs": [
    {
     "data": {
      "text/plain": [
       "LinearRegression()"
      ]
     },
     "execution_count": 85,
     "metadata": {},
     "output_type": "execute_result"
    }
   ],
   "source": [
    "lm.fit(x,y)"
   ]
  },
  {
   "cell_type": "code",
   "execution_count": 86,
   "id": "6cec9be5",
   "metadata": {
    "ExecuteTime": {
     "end_time": "2022-06-27T11:35:57.858196Z",
     "start_time": "2022-06-27T11:35:57.845478Z"
    }
   },
   "outputs": [
    {
     "name": "stdout",
     "output_type": "stream",
     "text": [
      "[92.90985477]\n"
     ]
    }
   ],
   "source": [
    "hours = [9.25]\n",
    "predicted_score = lm.predict([hours])\n",
    "print(predicted_score)"
   ]
  }
 ],
 "metadata": {
  "kernelspec": {
   "display_name": "DeepLearning",
   "language": "python",
   "name": "deeplearning"
  },
  "language_info": {
   "codemirror_mode": {
    "name": "ipython",
    "version": 3
   },
   "file_extension": ".py",
   "mimetype": "text/x-python",
   "name": "python",
   "nbconvert_exporter": "python",
   "pygments_lexer": "ipython3",
   "version": "3.9.12"
  },
  "toc": {
   "base_numbering": 1,
   "nav_menu": {},
   "number_sections": true,
   "sideBar": true,
   "skip_h1_title": false,
   "title_cell": "Table of Contents",
   "title_sidebar": "Contents",
   "toc_cell": false,
   "toc_position": {},
   "toc_section_display": true,
   "toc_window_display": false
  }
 },
 "nbformat": 4,
 "nbformat_minor": 5
}
