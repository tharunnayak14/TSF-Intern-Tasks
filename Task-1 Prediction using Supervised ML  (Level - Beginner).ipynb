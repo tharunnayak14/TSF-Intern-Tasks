{
 "cells": [
  {
   "cell_type": "markdown",
   "id": "0e5d3900",
   "metadata": {},
   "source": [
    "# GRIP: The Sparks Foundation\n",
    "\n",
    "## Name: Badavath Tharun\n"
   ]
  },
  {
   "cell_type": "markdown",
   "id": "7e9cf063",
   "metadata": {},
   "source": [
    "## _Data Science and Business Analytics Intern_\n",
    "\n",
    "### Task 1 : Prediction Using Supervised ML"
   ]
  },
  {
   "cell_type": "markdown",
   "id": "2b87afc9",
   "metadata": {},
   "source": [
    "1: Predict the percentage of an student based on the no. of study hours.\n",
    "\n",
    "2: What will be predicted score if a student studies for 9.25 hrs/ day?\n",
    "\n",
    "● Data can be found at http://bit.ly/w-data\n"
   ]
  },
  {
   "cell_type": "markdown",
   "id": "30f4724d",
   "metadata": {
    "ExecuteTime": {
     "end_time": "2021-07-02T16:26:26.947615Z",
     "start_time": "2021-07-02T16:26:26.943655Z"
    }
   },
   "source": [
    "This is a simple linear regression task as it involves just 2 variables."
   ]
  },
  {
   "cell_type": "markdown",
   "id": "d99dbda2",
   "metadata": {},
   "source": [
    "## Step 1: Imports"
   ]
  },
  {
   "cell_type": "code",
   "execution_count": 1,
   "id": "968dc5b1",
   "metadata": {
    "ExecuteTime": {
     "end_time": "2021-07-06T16:09:43.410501Z",
     "start_time": "2021-07-06T16:09:41.868383Z"
    }
   },
   "outputs": [],
   "source": [
    "import numpy as np\n",
    "import pandas as pd\n",
    "import matplotlib.pyplot as plt\n",
    "import seaborn as sns\n",
    "plt.style.use('ggplot')"
   ]
  },
  {
   "cell_type": "code",
   "execution_count": 2,
   "id": "a877c909",
   "metadata": {
    "ExecuteTime": {
     "end_time": "2021-07-06T16:09:43.580251Z",
     "start_time": "2021-07-06T16:09:43.413401Z"
    }
   },
   "outputs": [],
   "source": [
    "df = pd.read_csv('https://raw.githubusercontent.com/AdiPersonalWorks/Random/master/student_scores%20-%20student_scores.csv')"
   ]
  },
  {
   "cell_type": "code",
   "execution_count": 3,
   "id": "d18a824b",
   "metadata": {
    "ExecuteTime": {
     "end_time": "2021-07-06T16:09:43.612164Z",
     "start_time": "2021-07-06T16:09:43.583241Z"
    }
   },
   "outputs": [
    {
     "data": {
      "text/html": [
       "<div>\n",
       "<style scoped>\n",
       "    .dataframe tbody tr th:only-of-type {\n",
       "        vertical-align: middle;\n",
       "    }\n",
       "\n",
       "    .dataframe tbody tr th {\n",
       "        vertical-align: top;\n",
       "    }\n",
       "\n",
       "    .dataframe thead th {\n",
       "        text-align: right;\n",
       "    }\n",
       "</style>\n",
       "<table border=\"1\" class=\"dataframe\">\n",
       "  <thead>\n",
       "    <tr style=\"text-align: right;\">\n",
       "      <th></th>\n",
       "      <th>Hours</th>\n",
       "      <th>Scores</th>\n",
       "    </tr>\n",
       "  </thead>\n",
       "  <tbody>\n",
       "    <tr>\n",
       "      <th>0</th>\n",
       "      <td>2.5</td>\n",
       "      <td>21</td>\n",
       "    </tr>\n",
       "    <tr>\n",
       "      <th>1</th>\n",
       "      <td>5.1</td>\n",
       "      <td>47</td>\n",
       "    </tr>\n",
       "    <tr>\n",
       "      <th>2</th>\n",
       "      <td>3.2</td>\n",
       "      <td>27</td>\n",
       "    </tr>\n",
       "    <tr>\n",
       "      <th>3</th>\n",
       "      <td>8.5</td>\n",
       "      <td>75</td>\n",
       "    </tr>\n",
       "    <tr>\n",
       "      <th>4</th>\n",
       "      <td>3.5</td>\n",
       "      <td>30</td>\n",
       "    </tr>\n",
       "  </tbody>\n",
       "</table>\n",
       "</div>"
      ],
      "text/plain": [
       "   Hours  Scores\n",
       "0    2.5      21\n",
       "1    5.1      47\n",
       "2    3.2      27\n",
       "3    8.5      75\n",
       "4    3.5      30"
      ]
     },
     "execution_count": 3,
     "metadata": {},
     "output_type": "execute_result"
    }
   ],
   "source": [
    "df.head()"
   ]
  },
  {
   "cell_type": "code",
   "execution_count": 4,
   "id": "0f394cad",
   "metadata": {
    "ExecuteTime": {
     "end_time": "2021-07-06T16:09:43.660037Z",
     "start_time": "2021-07-06T16:09:43.615154Z"
    }
   },
   "outputs": [
    {
     "name": "stdout",
     "output_type": "stream",
     "text": [
      "<class 'pandas.core.frame.DataFrame'>\n",
      "RangeIndex: 25 entries, 0 to 24\n",
      "Data columns (total 2 columns):\n",
      " #   Column  Non-Null Count  Dtype  \n",
      "---  ------  --------------  -----  \n",
      " 0   Hours   25 non-null     float64\n",
      " 1   Scores  25 non-null     int64  \n",
      "dtypes: float64(1), int64(1)\n",
      "memory usage: 528.0 bytes\n"
     ]
    }
   ],
   "source": [
    "df.info()"
   ]
  },
  {
   "cell_type": "code",
   "execution_count": 5,
   "id": "986ac93b",
   "metadata": {
    "ExecuteTime": {
     "end_time": "2021-07-06T16:09:43.705911Z",
     "start_time": "2021-07-06T16:09:43.663028Z"
    }
   },
   "outputs": [
    {
     "data": {
      "text/html": [
       "<div>\n",
       "<style scoped>\n",
       "    .dataframe tbody tr th:only-of-type {\n",
       "        vertical-align: middle;\n",
       "    }\n",
       "\n",
       "    .dataframe tbody tr th {\n",
       "        vertical-align: top;\n",
       "    }\n",
       "\n",
       "    .dataframe thead th {\n",
       "        text-align: right;\n",
       "    }\n",
       "</style>\n",
       "<table border=\"1\" class=\"dataframe\">\n",
       "  <thead>\n",
       "    <tr style=\"text-align: right;\">\n",
       "      <th></th>\n",
       "      <th>Hours</th>\n",
       "      <th>Scores</th>\n",
       "    </tr>\n",
       "  </thead>\n",
       "  <tbody>\n",
       "    <tr>\n",
       "      <th>count</th>\n",
       "      <td>25.000000</td>\n",
       "      <td>25.000000</td>\n",
       "    </tr>\n",
       "    <tr>\n",
       "      <th>mean</th>\n",
       "      <td>5.012000</td>\n",
       "      <td>51.480000</td>\n",
       "    </tr>\n",
       "    <tr>\n",
       "      <th>std</th>\n",
       "      <td>2.525094</td>\n",
       "      <td>25.286887</td>\n",
       "    </tr>\n",
       "    <tr>\n",
       "      <th>min</th>\n",
       "      <td>1.100000</td>\n",
       "      <td>17.000000</td>\n",
       "    </tr>\n",
       "    <tr>\n",
       "      <th>25%</th>\n",
       "      <td>2.700000</td>\n",
       "      <td>30.000000</td>\n",
       "    </tr>\n",
       "    <tr>\n",
       "      <th>50%</th>\n",
       "      <td>4.800000</td>\n",
       "      <td>47.000000</td>\n",
       "    </tr>\n",
       "    <tr>\n",
       "      <th>75%</th>\n",
       "      <td>7.400000</td>\n",
       "      <td>75.000000</td>\n",
       "    </tr>\n",
       "    <tr>\n",
       "      <th>max</th>\n",
       "      <td>9.200000</td>\n",
       "      <td>95.000000</td>\n",
       "    </tr>\n",
       "  </tbody>\n",
       "</table>\n",
       "</div>"
      ],
      "text/plain": [
       "           Hours     Scores\n",
       "count  25.000000  25.000000\n",
       "mean    5.012000  51.480000\n",
       "std     2.525094  25.286887\n",
       "min     1.100000  17.000000\n",
       "25%     2.700000  30.000000\n",
       "50%     4.800000  47.000000\n",
       "75%     7.400000  75.000000\n",
       "max     9.200000  95.000000"
      ]
     },
     "execution_count": 5,
     "metadata": {},
     "output_type": "execute_result"
    }
   ],
   "source": [
    "df.describe()"
   ]
  },
  {
   "cell_type": "markdown",
   "id": "9b54252f",
   "metadata": {},
   "source": [
    "## Step 2: Data Visualizations"
   ]
  },
  {
   "cell_type": "code",
   "execution_count": 6,
   "id": "01ea91d2",
   "metadata": {
    "ExecuteTime": {
     "end_time": "2021-07-06T16:09:44.747874Z",
     "start_time": "2021-07-06T16:09:43.708903Z"
    }
   },
   "outputs": [
    {
     "data": {
      "text/plain": [
       "<seaborn.axisgrid.PairGrid at 0x2a93ba865e0>"
      ]
     },
     "execution_count": 6,
     "metadata": {},
     "output_type": "execute_result"
    },
    {
     "data": {
      "image/png": "[encoded data removed]",
      "text/plain": [
       "<Figure size 360x360 with 6 Axes>"
      ]
     },
     "metadata": {},
     "output_type": "display_data"
    }
   ],
   "source": [
    "sns.pairplot(df)"
   ]
  },
  {
   "cell_type": "code",
   "execution_count": 7,
   "id": "11afa7cb",
   "metadata": {
    "ExecuteTime": {
     "end_time": "2021-07-06T16:09:44.952253Z",
     "start_time": "2021-07-06T16:09:44.750793Z"
    }
   },
   "outputs": [
    {
     "data": {
      "text/plain": [
       "<AxesSubplot:xlabel='Scores'>"
      ]
     },
     "execution_count": 7,
     "metadata": {},
     "output_type": "execute_result"
    },
    {
     "data": {
      "image/png": "[encoded data removed]",
      "text/plain": [
       "<Figure size 432x288 with 1 Axes>"
      ]
     },
     "metadata": {},
     "output_type": "display_data"
    }
   ],
   "source": [
    "sns.boxplot(data=df,x =\"Scores\")"
   ]
  },
  {
   "cell_type": "code",
   "execution_count": 8,
   "id": "30062926",
   "metadata": {
    "ExecuteTime": {
     "end_time": "2021-07-06T16:09:45.155711Z",
     "start_time": "2021-07-06T16:09:44.956212Z"
    }
   },
   "outputs": [
    {
     "data": {
      "text/plain": [
       "<AxesSubplot:xlabel='Hours'>"
      ]
     },
     "execution_count": 8,
     "metadata": {},
     "output_type": "execute_result"
    },
    {
     "data": {
      "image/png": "[encoded data removed]",
      "text/plain": [
       "<Figure size 432x288 with 1 Axes>"
      ]
     },
     "metadata": {},
     "output_type": "display_data"
    }
   ],
   "source": [
    "sns.boxplot(data=df,x =\"Hours\")"
   ]
  },
  {
   "cell_type": "code",
   "execution_count": 9,
   "id": "24772252",
   "metadata": {
    "ExecuteTime": {
     "end_time": "2021-07-06T16:09:45.533668Z",
     "start_time": "2021-07-06T16:09:45.159667Z"
    }
   },
   "outputs": [
    {
     "data": {
      "text/plain": [
       "<seaborn.axisgrid.FacetGrid at 0x2a968d3cc40>"
      ]
     },
     "execution_count": 9,
     "metadata": {},
     "output_type": "execute_result"
    },
    {
     "data": {
      "image/png": "[encoded data removed]",
      "text/plain": [
       "<Figure size 360x360 with 1 Axes>"
      ]
     },
     "metadata": {},
     "output_type": "display_data"
    }
   ],
   "source": [
    "sns.displot(data=df, x=\"Scores\", bins=15)"
   ]
  },
  {
   "cell_type": "code",
   "execution_count": 10,
   "id": "8a5e2d7f",
   "metadata": {
    "ExecuteTime": {
     "end_time": "2021-07-06T16:09:45.940578Z",
     "start_time": "2021-07-06T16:09:45.536660Z"
    }
   },
   "outputs": [
    {
     "data": {
      "text/plain": [
       "<seaborn.axisgrid.FacetGrid at 0x2a93bce5d60>"
      ]
     },
     "execution_count": 10,
     "metadata": {},
     "output_type": "execute_result"
    },
    {
     "data": {
      "image/png": "[encoded data removed]",
      "text/plain": [
       "<Figure size 360x360 with 1 Axes>"
      ]
     },
     "metadata": {},
     "output_type": "display_data"
    }
   ],
   "source": [
    "sns.displot(data=df, x='Hours',bins=15)"
   ]
  },
  {
   "cell_type": "code",
   "execution_count": 11,
   "id": "efe2b179",
   "metadata": {
    "ExecuteTime": {
     "end_time": "2021-07-06T16:09:46.222345Z",
     "start_time": "2021-07-06T16:09:45.943570Z"
    }
   },
   "outputs": [
    {
     "data": {
      "text/plain": [
       "<AxesSubplot:>"
      ]
     },
     "execution_count": 11,
     "metadata": {},
     "output_type": "execute_result"
    },
    {
     "data": {
      "image/png": "[encoded data removed]",
      "text/plain": [
       "<Figure size 432x288 with 2 Axes>"
      ]
     },
     "metadata": {},
     "output_type": "display_data"
    }
   ],
   "source": [
    "sns.heatmap(df.corr(), cmap='viridis', annot=True)"
   ]
  },
  {
   "cell_type": "code",
   "execution_count": 12,
   "id": "fa560d21",
   "metadata": {
    "ExecuteTime": {
     "end_time": "2021-07-06T16:09:46.518104Z",
     "start_time": "2021-07-06T16:09:46.225338Z"
    }
   },
   "outputs": [
    {
     "data": {
      "text/plain": [
       "<AxesSubplot:xlabel='Hours', ylabel='Scores'>"
      ]
     },
     "execution_count": 12,
     "metadata": {},
     "output_type": "execute_result"
    },
    {
     "data": {
      "image/png": "[encoded data removed]",
      "text/plain": [
       "<Figure size 432x288 with 1 Axes>"
      ]
     },
     "metadata": {},
     "output_type": "display_data"
    }
   ],
   "source": [
    "sns.scatterplot(data=df, x=\"Hours\", y=\"Scores\")"
   ]
  },
  {
   "cell_type": "code",
   "execution_count": 13,
   "id": "c4ed731b",
   "metadata": {
    "ExecuteTime": {
     "end_time": "2021-07-06T16:09:46.890613Z",
     "start_time": "2021-07-06T16:09:46.520065Z"
    }
   },
   "outputs": [
    {
     "data": {
      "text/plain": [
       "<AxesSubplot:xlabel='Hours', ylabel='Scores'>"
      ]
     },
     "execution_count": 13,
     "metadata": {},
     "output_type": "execute_result"
    },
    {
     "data": {
      "image/png": "[encoded data removed]",
      "text/plain": [
       "<Figure size 432x288 with 1 Axes>"
      ]
     },
     "metadata": {},
     "output_type": "display_data"
    }
   ],
   "source": [
    "sns.regplot(data=df, x=\"Hours\", y=\"Scores\")"
   ]
  },
  {
   "cell_type": "markdown",
   "id": "4567e74b",
   "metadata": {},
   "source": [
    "We can use np.polyfit for simple regression instead of using sklearn, use help(np.polyfit) for more\n"
   ]
  },
  {
   "cell_type": "markdown",
   "id": "0e00e38c",
   "metadata": {},
   "source": [
    "Basically this method accepts x,y and degreee of model trying to fit and returns the coefficients (highest order first)"
   ]
  },
  {
   "cell_type": "markdown",
   "id": "2ed32aee",
   "metadata": {},
   "source": [
    "## Step 3: Prepare the data for model"
   ]
  },
  {
   "cell_type": "code",
   "execution_count": 14,
   "id": "8a3d5276",
   "metadata": {
    "ExecuteTime": {
     "end_time": "2021-07-06T16:09:46.905606Z",
     "start_time": "2021-07-06T16:09:46.892607Z"
    }
   },
   "outputs": [],
   "source": [
    "x = df['Hours']\n",
    "y = df['Scores']"
   ]
  },
  {
   "cell_type": "code",
   "execution_count": 15,
   "id": "6b42ab04",
   "metadata": {
    "ExecuteTime": {
     "end_time": "2021-07-06T16:09:47.407246Z",
     "start_time": "2021-07-06T16:09:46.908567Z"
    }
   },
   "outputs": [],
   "source": [
    "from sklearn.model_selection import train_test_split\n",
    "x_train, x_test, y_train, y_test = train_test_split(x,y,test_size=0.3)"
   ]
  },
  {
   "cell_type": "code",
   "execution_count": 16,
   "id": "5be2e726",
   "metadata": {
    "ExecuteTime": {
     "end_time": "2021-07-06T16:09:47.423189Z",
     "start_time": "2021-07-06T16:09:47.409227Z"
    }
   },
   "outputs": [],
   "source": [
    "#help(np.polyfit)"
   ]
  },
  {
   "cell_type": "markdown",
   "id": "bdc320a2",
   "metadata": {},
   "source": [
    "## Step 4: Training the model"
   ]
  },
  {
   "cell_type": "code",
   "execution_count": 17,
   "id": "dabc7eff",
   "metadata": {
    "ExecuteTime": {
     "end_time": "2021-07-06T16:09:47.439148Z",
     "start_time": "2021-07-06T16:09:47.427177Z"
    }
   },
   "outputs": [
    {
     "data": {
      "text/plain": [
       "array([9.96539205, 1.53900979])"
      ]
     },
     "execution_count": 17,
     "metadata": {},
     "output_type": "execute_result"
    }
   ],
   "source": [
    "coefs = np.polyfit(x_train,y_train,1)\n",
    "coefs"
   ]
  },
  {
   "cell_type": "code",
   "execution_count": 18,
   "id": "ed1900ce",
   "metadata": {
    "ExecuteTime": {
     "end_time": "2021-07-06T16:09:47.455151Z",
     "start_time": "2021-07-06T16:09:47.441142Z"
    }
   },
   "outputs": [],
   "source": [
    "def linear_model(future_hours):\n",
    "    return coefs[0]* future_hours + coefs[1]"
   ]
  },
  {
   "cell_type": "code",
   "execution_count": 19,
   "id": "26038720",
   "metadata": {
    "ExecuteTime": {
     "end_time": "2021-07-06T16:09:47.471062Z",
     "start_time": "2021-07-06T16:09:47.458098Z"
    }
   },
   "outputs": [],
   "source": [
    "future_hours = np.linspace(0,10,100)\n",
    "future_scores = linear_model(future_hours)"
   ]
  },
  {
   "cell_type": "markdown",
   "id": "ea8482f2",
   "metadata": {},
   "source": [
    " This is our Predicted Linear Regression Model"
   ]
  },
  {
   "cell_type": "code",
   "execution_count": 20,
   "id": "a6c85b3e",
   "metadata": {
    "ExecuteTime": {
     "end_time": "2021-07-06T16:09:47.691506Z",
     "start_time": "2021-07-06T16:09:47.474055Z"
    }
   },
   "outputs": [
    {
     "data": {
      "image/png": "[encoded data removed]",
      "text/plain": [
       "<Figure size 432x288 with 1 Axes>"
      ]
     },
     "metadata": {},
     "output_type": "display_data"
    }
   ],
   "source": [
    "plt.plot(future_hours,future_scores)\n",
    "plt.xlabel('Hours')\n",
    "plt.ylabel('Scores')\n",
    "plt.show()"
   ]
  },
  {
   "cell_type": "code",
   "execution_count": 21,
   "id": "52468919",
   "metadata": {
    "ExecuteTime": {
     "end_time": "2021-07-06T16:09:47.939809Z",
     "start_time": "2021-07-06T16:09:47.694467Z"
    }
   },
   "outputs": [
    {
     "data": {
      "image/png": "[encoded data removed]",
      "text/plain": [
       "<Figure size 432x288 with 1 Axes>"
      ]
     },
     "metadata": {},
     "output_type": "display_data"
    }
   ],
   "source": [
    "plt.plot(future_hours,future_scores)\n",
    "sns.scatterplot(x=x_train, y=y_train)\n",
    "plt.xlabel('Hours')\n",
    "plt.ylabel('Scores')\n",
    "plt.show()"
   ]
  },
  {
   "cell_type": "markdown",
   "id": "7c68b5ee",
   "metadata": {},
   "source": [
    "## Step 5: Model Evaluation | Performance Metrics"
   ]
  },
  {
   "cell_type": "code",
   "execution_count": 22,
   "id": "31757dd0",
   "metadata": {
    "ExecuteTime": {
     "end_time": "2021-07-06T16:09:47.955765Z",
     "start_time": "2021-07-06T16:09:47.942801Z"
    }
   },
   "outputs": [],
   "source": [
    "predictions = x_test.apply(linear_model)"
   ]
  },
  {
   "cell_type": "code",
   "execution_count": 23,
   "id": "ffef6cb1",
   "metadata": {
    "ExecuteTime": {
     "end_time": "2021-07-06T16:09:47.971764Z",
     "start_time": "2021-07-06T16:09:47.958774Z"
    }
   },
   "outputs": [],
   "source": [
    "from sklearn.metrics import mean_absolute_error, mean_squared_error"
   ]
  },
  {
   "cell_type": "code",
   "execution_count": 24,
   "id": "c627ee7f",
   "metadata": {
    "ExecuteTime": {
     "end_time": "2021-07-06T16:09:47.987686Z",
     "start_time": "2021-07-06T16:09:47.974717Z"
    }
   },
   "outputs": [
    {
     "data": {
      "text/plain": [
       "4.498466939896328"
      ]
     },
     "execution_count": 24,
     "metadata": {},
     "output_type": "execute_result"
    }
   ],
   "source": [
    "mae = mean_absolute_error(y_test, predictions)\n",
    "mae"
   ]
  },
  {
   "cell_type": "code",
   "execution_count": 25,
   "id": "c8adc582",
   "metadata": {
    "ExecuteTime": {
     "end_time": "2021-07-06T16:09:48.002641Z",
     "start_time": "2021-07-06T16:09:47.991668Z"
    }
   },
   "outputs": [
    {
     "data": {
      "text/plain": [
       "4.741097545662256"
      ]
     },
     "execution_count": 25,
     "metadata": {},
     "output_type": "execute_result"
    }
   ],
   "source": [
    "rmse = np.sqrt(mean_squared_error(y_test, predictions))\n",
    "rmse"
   ]
  },
  {
   "cell_type": "markdown",
   "id": "099f6463",
   "metadata": {},
   "source": [
    "## Step 6: Retrain the model on whole data"
   ]
  },
  {
   "cell_type": "code",
   "execution_count": 26,
   "id": "cbbef66b",
   "metadata": {
    "ExecuteTime": {
     "end_time": "2021-07-06T16:09:48.018600Z",
     "start_time": "2021-07-06T16:09:48.011616Z"
    }
   },
   "outputs": [],
   "source": [
    "final_coefs = np.polyfit(x,y,1)"
   ]
  },
  {
   "cell_type": "code",
   "execution_count": 27,
   "id": "973b728a",
   "metadata": {
    "ExecuteTime": {
     "end_time": "2021-07-06T16:09:48.033557Z",
     "start_time": "2021-07-06T16:09:48.022586Z"
    }
   },
   "outputs": [
    {
     "name": "stdout",
     "output_type": "stream",
     "text": [
      "[9.77580339 2.48367341]\n"
     ]
    }
   ],
   "source": [
    "print(final_coefs)"
   ]
  },
  {
   "cell_type": "code",
   "execution_count": 28,
   "id": "e2ce3aed",
   "metadata": {
    "ExecuteTime": {
     "end_time": "2021-07-06T16:09:48.048551Z",
     "start_time": "2021-07-06T16:09:48.038547Z"
    }
   },
   "outputs": [],
   "source": [
    "def final_linear_model(future_hours):\n",
    "    return final_coefs[0]* future_hours + final_coefs[1]"
   ]
  },
  {
   "cell_type": "markdown",
   "id": "ea69efe2",
   "metadata": {},
   "source": [
    "### What will be predicted score if a student studies for 9.25 hrs/ day?"
   ]
  },
  {
   "cell_type": "code",
   "execution_count": 29,
   "id": "faf03274",
   "metadata": {
    "ExecuteTime": {
     "end_time": "2021-07-06T16:09:48.063764Z",
     "start_time": "2021-07-06T16:09:48.055514Z"
    }
   },
   "outputs": [
    {
     "data": {
      "text/plain": [
       "92.9098547701573"
      ]
     },
     "execution_count": 29,
     "metadata": {},
     "output_type": "execute_result"
    }
   ],
   "source": [
    "predicted_score = final_linear_model(9.25)\n",
    "predicted_score"
   ]
  },
  {
   "cell_type": "markdown",
   "id": "a508d6ef",
   "metadata": {},
   "source": [
    "# We can do the same task using scikit-learn too"
   ]
  },
  {
   "cell_type": "code",
   "execution_count": 30,
   "id": "6bcbe2ea",
   "metadata": {
    "ExecuteTime": {
     "end_time": "2021-07-06T16:09:48.155542Z",
     "start_time": "2021-07-06T16:09:48.068759Z"
    }
   },
   "outputs": [],
   "source": [
    "from sklearn.linear_model import LinearRegression"
   ]
  },
  {
   "cell_type": "code",
   "execution_count": 31,
   "id": "5babcb36",
   "metadata": {
    "ExecuteTime": {
     "end_time": "2021-07-06T16:09:48.171079Z",
     "start_time": "2021-07-06T16:09:48.158114Z"
    }
   },
   "outputs": [],
   "source": [
    "lm = LinearRegression()"
   ]
  },
  {
   "cell_type": "code",
   "execution_count": 32,
   "id": "962c6f28",
   "metadata": {
    "ExecuteTime": {
     "end_time": "2021-07-06T16:09:48.187038Z",
     "start_time": "2021-07-06T16:09:48.177066Z"
    }
   },
   "outputs": [],
   "source": [
    "x = df['Hours'].values.reshape(-1,1)\n",
    "y = df['Scores']"
   ]
  },
  {
   "cell_type": "code",
   "execution_count": 33,
   "id": "83605b29",
   "metadata": {
    "ExecuteTime": {
     "end_time": "2021-07-06T16:09:48.202004Z",
     "start_time": "2021-07-06T16:09:48.192024Z"
    }
   },
   "outputs": [],
   "source": [
    "from sklearn.model_selection import train_test_split\n",
    "x_train, x_test, y_train, y_test = train_test_split(x,y,test_size=0.3)"
   ]
  },
  {
   "cell_type": "code",
   "execution_count": 34,
   "id": "0430828a",
   "metadata": {
    "ExecuteTime": {
     "end_time": "2021-07-06T16:09:48.217972Z",
     "start_time": "2021-07-06T16:09:48.205984Z"
    }
   },
   "outputs": [
    {
     "data": {
      "text/plain": [
       "LinearRegression()"
      ]
     },
     "execution_count": 34,
     "metadata": {},
     "output_type": "execute_result"
    }
   ],
   "source": [
    "lm.fit(x_train, y_train)"
   ]
  },
  {
   "cell_type": "code",
   "execution_count": 35,
   "id": "18f723f6",
   "metadata": {
    "ExecuteTime": {
     "end_time": "2021-07-06T16:09:48.232912Z",
     "start_time": "2021-07-06T16:09:48.221942Z"
    }
   },
   "outputs": [
    {
     "data": {
      "text/plain": [
       "array([10.14486793])"
      ]
     },
     "execution_count": 35,
     "metadata": {},
     "output_type": "execute_result"
    }
   ],
   "source": [
    "lm.coef_"
   ]
  },
  {
   "cell_type": "code",
   "execution_count": 36,
   "id": "fb5b8cf6",
   "metadata": {
    "ExecuteTime": {
     "end_time": "2021-07-06T16:09:48.248870Z",
     "start_time": "2021-07-06T16:09:48.237902Z"
    }
   },
   "outputs": [
    {
     "data": {
      "text/plain": [
       "1.2381409377570591"
      ]
     },
     "execution_count": 36,
     "metadata": {},
     "output_type": "execute_result"
    }
   ],
   "source": [
    "lm.intercept_"
   ]
  },
  {
   "cell_type": "code",
   "execution_count": 37,
   "id": "700383fc",
   "metadata": {
    "ExecuteTime": {
     "end_time": "2021-07-06T16:09:48.264827Z",
     "start_time": "2021-07-06T16:09:48.252860Z"
    }
   },
   "outputs": [],
   "source": [
    "predicted_scores = lm.predict(x_test)"
   ]
  },
  {
   "cell_type": "code",
   "execution_count": 38,
   "id": "ce9c3650",
   "metadata": {
    "ExecuteTime": {
     "end_time": "2021-07-06T16:09:48.280784Z",
     "start_time": "2021-07-06T16:09:48.270810Z"
    }
   },
   "outputs": [
    {
     "data": {
      "text/plain": [
       "array([57.03491454, 26.60031076, 46.89004661, 87.46951833, 36.74517869,\n",
       "       85.44054474, 91.5274655 , 12.39749566])"
      ]
     },
     "execution_count": 38,
     "metadata": {},
     "output_type": "execute_result"
    }
   ],
   "source": [
    "predicted_scores"
   ]
  },
  {
   "cell_type": "code",
   "execution_count": 39,
   "id": "e981a79e",
   "metadata": {
    "ExecuteTime": {
     "end_time": "2021-07-06T16:09:48.296745Z",
     "start_time": "2021-07-06T16:09:48.283776Z"
    }
   },
   "outputs": [
    {
     "data": {
      "text/plain": [
       "5.498137738780735"
      ]
     },
     "execution_count": 39,
     "metadata": {},
     "output_type": "execute_result"
    }
   ],
   "source": [
    "mae = mean_absolute_error(y_test, predicted_scores)\n",
    "mae"
   ]
  },
  {
   "cell_type": "code",
   "execution_count": 40,
   "id": "6fb55b8c",
   "metadata": {
    "ExecuteTime": {
     "end_time": "2021-07-06T16:09:48.312704Z",
     "start_time": "2021-07-06T16:09:48.299734Z"
    }
   },
   "outputs": [
    {
     "data": {
      "text/plain": [
       "6.214786503584502"
      ]
     },
     "execution_count": 40,
     "metadata": {},
     "output_type": "execute_result"
    }
   ],
   "source": [
    "rmse = mean_squared_error(y_test, predicted_scores)**0.5\n",
    "rmse"
   ]
  },
  {
   "cell_type": "markdown",
   "id": "29bc0dce",
   "metadata": {},
   "source": [
    "### Retrain on the whole data"
   ]
  },
  {
   "cell_type": "code",
   "execution_count": 41,
   "id": "7ff0c5d1",
   "metadata": {
    "ExecuteTime": {
     "end_time": "2021-07-06T16:09:48.327661Z",
     "start_time": "2021-07-06T16:09:48.315691Z"
    }
   },
   "outputs": [
    {
     "data": {
      "text/plain": [
       "LinearRegression()"
      ]
     },
     "execution_count": 41,
     "metadata": {},
     "output_type": "execute_result"
    }
   ],
   "source": [
    "lm.fit(x,y)"
   ]
  },
  {
   "cell_type": "code",
   "execution_count": 42,
   "id": "6cec9be5",
   "metadata": {
    "ExecuteTime": {
     "end_time": "2021-07-06T16:09:48.342618Z",
     "start_time": "2021-07-06T16:09:48.329654Z"
    }
   },
   "outputs": [
    {
     "name": "stdout",
     "output_type": "stream",
     "text": [
      "[92.90985477]\n"
     ]
    }
   ],
   "source": [
    "hours = [9.25]\n",
    "predicted_score = lm.predict([hours])\n",
    "print(predicted_score)"
   ]
  }
 ],
 "metadata": {
  "kernelspec": {
   "display_name": "Python 3",
   "language": "python",
   "name": "python3"
  },
  "language_info": {
   "codemirror_mode": {
    "name": "ipython",
    "version": 3
   },
   "file_extension": ".py",
   "mimetype": "text/x-python",
   "name": "python",
   "nbconvert_exporter": "python",
   "pygments_lexer": "ipython3",
   "version": "3.8.2"
  }
 },
 "nbformat": 4,
 "nbformat_minor": 5
}
