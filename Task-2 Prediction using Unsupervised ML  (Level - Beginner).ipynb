{
 "cells": [
  {
   "cell_type": "markdown",
   "id": "16ba0c24",
   "metadata": {},
   "source": [
    "# GRIP: The Sparks Foundation\n",
    "\n",
    "## Name: Badavath Tharun"
   ]
  },
  {
   "cell_type": "markdown",
   "id": "56237a70",
   "metadata": {},
   "source": [
    "## _Data Science and Business Analytics Intern_\n",
    "\n",
    "### Task 2 : Prediction Using Unsupervised ML"
   ]
  },
  {
   "cell_type": "markdown",
   "id": "f3407131",
   "metadata": {},
   "source": [
    "● From the given ‘Iris’ dataset, predict the optimum number of clusters\n",
    "  and represent it visually.\n",
    "\n",
    "● Dataset : https://bit.ly/3kXTdox"
   ]
  },
  {
   "cell_type": "markdown",
   "id": "2d84b047",
   "metadata": {},
   "source": [
    "## Step 1: Imports"
   ]
  },
  {
   "cell_type": "code",
   "execution_count": 1,
   "id": "2cc40f11",
   "metadata": {
    "ExecuteTime": {
     "end_time": "2021-07-13T06:16:01.759957Z",
     "start_time": "2021-07-13T06:16:00.720380Z"
    }
   },
   "outputs": [],
   "source": [
    "import numpy as np\n",
    "import pandas as pd\n",
    "import matplotlib.pyplot as plt\n",
    "import seaborn as sns\n",
    "import plotly.express as px\n",
    "plt.style.use('ggplot')"
   ]
  },
  {
   "cell_type": "code",
   "execution_count": 2,
   "id": "597a01df",
   "metadata": {
    "ExecuteTime": {
     "end_time": "2021-07-13T06:16:01.775803Z",
     "start_time": "2021-07-13T06:16:01.762796Z"
    }
   },
   "outputs": [],
   "source": [
    "df = pd.read_csv(\"./data/Iris (1).csv\")"
   ]
  },
  {
   "cell_type": "code",
   "execution_count": null,
   "id": "3d0ea84e",
   "metadata": {
    "ExecuteTime": {
     "start_time": "2021-07-13T06:16:00.707Z"
    }
   },
   "outputs": [],
   "source": [
    "df.head()"
   ]
  },
  {
   "cell_type": "code",
   "execution_count": null,
   "id": "5c472de4",
   "metadata": {
    "ExecuteTime": {
     "start_time": "2021-07-13T06:16:00.710Z"
    }
   },
   "outputs": [],
   "source": [
    "df.info()"
   ]
  },
  {
   "cell_type": "code",
   "execution_count": null,
   "id": "6fa88a9b",
   "metadata": {
    "ExecuteTime": {
     "start_time": "2021-07-13T06:16:00.711Z"
    }
   },
   "outputs": [],
   "source": [
    "df = df.drop([\"Species\", \"Id\"], axis=1)"
   ]
  },
  {
   "cell_type": "code",
   "execution_count": null,
   "id": "99a773e5",
   "metadata": {
    "ExecuteTime": {
     "start_time": "2021-07-13T06:16:00.714Z"
    }
   },
   "outputs": [],
   "source": [
    "df.head()"
   ]
  },
  {
   "cell_type": "code",
   "execution_count": null,
   "id": "2004045d",
   "metadata": {
    "ExecuteTime": {
     "start_time": "2021-07-13T06:16:00.716Z"
    }
   },
   "outputs": [],
   "source": [
    "df.describe()"
   ]
  },
  {
   "cell_type": "markdown",
   "id": "74f4ef46",
   "metadata": {},
   "source": [
    "## Step 2: Data Visualizations"
   ]
  },
  {
   "cell_type": "code",
   "execution_count": null,
   "id": "6dd140b2",
   "metadata": {
    "ExecuteTime": {
     "start_time": "2021-07-13T06:16:00.718Z"
    }
   },
   "outputs": [],
   "source": [
    "sns.pairplot(df)"
   ]
  },
  {
   "cell_type": "code",
   "execution_count": null,
   "id": "112e0799",
   "metadata": {
    "ExecuteTime": {
     "start_time": "2021-07-13T06:16:00.722Z"
    }
   },
   "outputs": [],
   "source": [
    "fig = px.scatter(df, x=\"SepalWidthCm\", y=\"SepalLengthCm\",\n",
    "                 size='PetalLengthCm', hover_data=['PetalWidthCm'])\n",
    "fig.show()"
   ]
  },
  {
   "cell_type": "code",
   "execution_count": null,
   "id": "b8899294",
   "metadata": {
    "ExecuteTime": {
     "start_time": "2021-07-13T06:16:00.726Z"
    }
   },
   "outputs": [],
   "source": [
    "fig = px.line(df)\n",
    "fig.show()"
   ]
  },
  {
   "cell_type": "code",
   "execution_count": null,
   "id": "3e5d8b3a",
   "metadata": {
    "ExecuteTime": {
     "start_time": "2021-07-13T06:16:00.732Z"
    }
   },
   "outputs": [],
   "source": [
    "for column in df.columns:\n",
    "    fig = px.box(df,x=column)\n",
    "    fig.show()"
   ]
  },
  {
   "cell_type": "code",
   "execution_count": null,
   "id": "d65bd04c",
   "metadata": {
    "ExecuteTime": {
     "start_time": "2021-07-13T06:16:00.735Z"
    }
   },
   "outputs": [],
   "source": [
    "df[(df[\"SepalWidthCm\"]> 4.0) | (df[\"SepalWidthCm\"]<= 2.0)]"
   ]
  },
  {
   "cell_type": "code",
   "execution_count": null,
   "id": "84053b5c",
   "metadata": {
    "ExecuteTime": {
     "start_time": "2021-07-13T06:16:00.737Z"
    }
   },
   "outputs": [],
   "source": [
    "drop_index = df[(df[\"SepalWidthCm\"]> 4.0) | (df[\"SepalWidthCm\"]<= 2.0)].index\n",
    "drop_index"
   ]
  },
  {
   "cell_type": "code",
   "execution_count": null,
   "id": "c47bf1fa",
   "metadata": {
    "ExecuteTime": {
     "start_time": "2021-07-13T06:16:00.738Z"
    }
   },
   "outputs": [],
   "source": [
    "df = df.drop(drop_index, axis=0)"
   ]
  },
  {
   "cell_type": "code",
   "execution_count": null,
   "id": "c01b2737",
   "metadata": {
    "ExecuteTime": {
     "start_time": "2021-07-13T06:16:00.743Z"
    }
   },
   "outputs": [],
   "source": [
    "for column in df.columns:\n",
    "    fig = px.box(df,x=column)\n",
    "    fig.show()"
   ]
  },
  {
   "cell_type": "code",
   "execution_count": null,
   "id": "e11abd4b",
   "metadata": {
    "ExecuteTime": {
     "start_time": "2021-07-13T06:16:00.745Z"
    }
   },
   "outputs": [],
   "source": [
    "sns.heatmap(df.corr(), annot=True, cmap=\"viridis\")"
   ]
  },
  {
   "cell_type": "markdown",
   "id": "703ee1b4",
   "metadata": {},
   "source": [
    "## Step 3: Prepare the data for model"
   ]
  },
  {
   "cell_type": "code",
   "execution_count": null,
   "id": "7be4fcd3",
   "metadata": {
    "ExecuteTime": {
     "start_time": "2021-07-13T06:16:00.748Z"
    }
   },
   "outputs": [],
   "source": [
    "from sklearn.preprocessing import StandardScaler"
   ]
  },
  {
   "cell_type": "code",
   "execution_count": null,
   "id": "ca018125",
   "metadata": {
    "ExecuteTime": {
     "start_time": "2021-07-13T06:16:00.750Z"
    }
   },
   "outputs": [],
   "source": [
    "scaler = StandardScaler()"
   ]
  },
  {
   "cell_type": "code",
   "execution_count": null,
   "id": "3eb94cfb",
   "metadata": {
    "ExecuteTime": {
     "start_time": "2021-07-13T06:16:00.752Z"
    }
   },
   "outputs": [],
   "source": [
    "scaled_df = scaler.fit_transform(df)"
   ]
  },
  {
   "cell_type": "markdown",
   "id": "78c6f0b3",
   "metadata": {},
   "source": [
    "### Creating and Fitting a KMeans Model\n",
    "\n",
    "Note of our method choices here:\n",
    "\n",
    "* fit(X[, y, sample_weight])\n",
    "    * Compute k-means clustering.\n",
    "\n",
    "* fit_predict(X[, y, sample_weight])\n",
    "    * Compute cluster centers and predict cluster index for each sample.\n",
    "\n",
    "* fit_transform(X[, y, sample_weight])\n",
    "    * Compute clustering and transform X to cluster-distance space.\n",
    "\n",
    "* predict(X[, sample_weight])\n",
    "    * Predict the closest cluster each sample in X belongs to."
   ]
  },
  {
   "cell_type": "code",
   "execution_count": null,
   "id": "12a2532b",
   "metadata": {
    "ExecuteTime": {
     "start_time": "2021-07-13T06:16:00.754Z"
    }
   },
   "outputs": [],
   "source": [
    "from sklearn.cluster import KMeans"
   ]
  },
  {
   "cell_type": "code",
   "execution_count": null,
   "id": "145610bd",
   "metadata": {
    "ExecuteTime": {
     "start_time": "2021-07-13T06:16:00.756Z"
    }
   },
   "outputs": [],
   "source": [
    "model = KMeans(n_clusters=2)"
   ]
  },
  {
   "cell_type": "code",
   "execution_count": null,
   "id": "bac366b1",
   "metadata": {
    "ExecuteTime": {
     "start_time": "2021-07-13T06:16:00.757Z"
    }
   },
   "outputs": [],
   "source": [
    "cluster_labels = model.fit_predict(scaled_df)"
   ]
  },
  {
   "cell_type": "code",
   "execution_count": null,
   "id": "754125d8",
   "metadata": {
    "ExecuteTime": {
     "start_time": "2021-07-13T06:16:00.759Z"
    }
   },
   "outputs": [],
   "source": [
    "cluster_labels"
   ]
  },
  {
   "cell_type": "code",
   "execution_count": null,
   "id": "90fc8508",
   "metadata": {
    "ExecuteTime": {
     "start_time": "2021-07-13T06:16:00.760Z"
    }
   },
   "outputs": [],
   "source": [
    "df['Cluster'] = cluster_labels"
   ]
  },
  {
   "cell_type": "code",
   "execution_count": null,
   "id": "beee765c",
   "metadata": {
    "ExecuteTime": {
     "start_time": "2021-07-13T06:16:00.763Z"
    }
   },
   "outputs": [],
   "source": [
    "df"
   ]
  },
  {
   "cell_type": "code",
   "execution_count": null,
   "id": "940fbcc8",
   "metadata": {
    "ExecuteTime": {
     "start_time": "2021-07-13T06:16:00.766Z"
    }
   },
   "outputs": [],
   "source": [
    "fig = px.scatter(df, x=\"SepalWidthCm\", y=\"SepalLengthCm\",color= \"Cluster\",\n",
    "                 size='PetalLengthCm', hover_data=['PetalWidthCm'])\n",
    "fig.show()"
   ]
  },
  {
   "cell_type": "markdown",
   "id": "9b2f7a01",
   "metadata": {},
   "source": [
    "## Choosing K Value"
   ]
  },
  {
   "cell_type": "code",
   "execution_count": null,
   "id": "74e2d881",
   "metadata": {
    "ExecuteTime": {
     "start_time": "2021-07-13T06:16:00.768Z"
    }
   },
   "outputs": [],
   "source": [
    "ssd = []\n",
    "\n",
    "for k in range(2,10):\n",
    "    \n",
    "    model = KMeans(n_clusters=k)\n",
    "    \n",
    "    \n",
    "    model.fit(scaled_df)\n",
    "    \n",
    "    #Sum of squared distances of samples to their closest cluster center.\n",
    "    ssd.append(model.inertia_)"
   ]
  },
  {
   "cell_type": "code",
   "execution_count": null,
   "id": "9b9aaaff",
   "metadata": {
    "ExecuteTime": {
     "start_time": "2021-07-13T06:16:00.770Z"
    }
   },
   "outputs": [],
   "source": [
    "plt.plot(range(2,10),ssd,'o-')\n",
    "plt.xlabel(\"K Value\")\n",
    "plt.ylabel(\" Sum of Squared Distances\")"
   ]
  },
  {
   "cell_type": "markdown",
   "id": "078de956",
   "metadata": {},
   "source": [
    "### We then look for a K value where rate of reduction in SSD begins to decline.\n",
    "\n",
    "#### Here when k becomes 3 there is a sudden descrease in ssd and rate of reduction of ssd begins to decline"
   ]
  },
  {
   "cell_type": "code",
   "execution_count": null,
   "id": "169a1524",
   "metadata": {
    "ExecuteTime": {
     "start_time": "2021-07-13T06:16:00.771Z"
    }
   },
   "outputs": [],
   "source": [
    "model = KMeans(n_clusters=3)"
   ]
  },
  {
   "cell_type": "code",
   "execution_count": null,
   "id": "af0e34f8",
   "metadata": {
    "ExecuteTime": {
     "start_time": "2021-07-13T06:16:00.773Z"
    }
   },
   "outputs": [],
   "source": [
    "cluster_labels = model.fit_predict(scaled_df)"
   ]
  },
  {
   "cell_type": "code",
   "execution_count": null,
   "id": "a817e29d",
   "metadata": {
    "ExecuteTime": {
     "start_time": "2021-07-13T06:16:00.777Z"
    }
   },
   "outputs": [],
   "source": [
    "cluster_labels"
   ]
  },
  {
   "cell_type": "code",
   "execution_count": null,
   "id": "36e352e1",
   "metadata": {
    "ExecuteTime": {
     "start_time": "2021-07-13T06:16:00.780Z"
    }
   },
   "outputs": [],
   "source": [
    "df['Cluster'] = cluster_labels"
   ]
  },
  {
   "cell_type": "code",
   "execution_count": null,
   "id": "4f9d2b12",
   "metadata": {
    "ExecuteTime": {
     "start_time": "2021-07-13T06:16:00.782Z"
    }
   },
   "outputs": [],
   "source": [
    "df"
   ]
  },
  {
   "cell_type": "code",
   "execution_count": null,
   "id": "34748209",
   "metadata": {
    "ExecuteTime": {
     "start_time": "2021-07-13T06:16:00.785Z"
    }
   },
   "outputs": [],
   "source": [
    "fig = px.scatter(df, x=\"SepalWidthCm\", y=\"SepalLengthCm\",color= \"Cluster\",\n",
    "                 size='PetalLengthCm', hover_data=['PetalWidthCm'])\n",
    "fig.show()"
   ]
  },
  {
   "cell_type": "markdown",
   "id": "f26af956",
   "metadata": {},
   "source": [
    "# DBSCAN"
   ]
  },
  {
   "cell_type": "code",
   "execution_count": null,
   "id": "7fae2808",
   "metadata": {
    "ExecuteTime": {
     "start_time": "2021-07-13T06:16:00.787Z"
    }
   },
   "outputs": [],
   "source": [
    "from sklearn.cluster import DBSCAN"
   ]
  },
  {
   "cell_type": "markdown",
   "id": "7bf7e772",
   "metadata": {},
   "source": [
    "## Charting reasonable Epsilon values"
   ]
  },
  {
   "cell_type": "code",
   "execution_count": null,
   "id": "0ee20a04",
   "metadata": {
    "ExecuteTime": {
     "start_time": "2021-07-13T06:16:00.788Z"
    }
   },
   "outputs": [],
   "source": [
    "outlier_percent = []\n",
    "number_of_outliers = []\n",
    "\n",
    "for eps in np.linspace(0.001,10,100):\n",
    "    \n",
    "    # Create Model\n",
    "    dbscan = DBSCAN(eps=eps)\n",
    "    dbscan.fit(df)\n",
    "    \n",
    "    # Log Number of Outliers\n",
    "    number_of_outliers.append(np.sum(dbscan.labels_ == -1))\n",
    "    \n",
    "    # Log percentage of points that are outliers\n",
    "    perc_outliers = 100 * np.sum(dbscan.labels_ == -1) / len(dbscan.labels_)\n",
    "    \n",
    "    outlier_percent.append(perc_outliers)"
   ]
  },
  {
   "cell_type": "code",
   "execution_count": null,
   "id": "7ec60665",
   "metadata": {
    "ExecuteTime": {
     "start_time": "2021-07-13T06:16:00.790Z"
    }
   },
   "outputs": [],
   "source": [
    "sns.lineplot(x=np.linspace(0.001,10,100),y=outlier_percent)\n",
    "plt.ylabel(\"Percentage of Points Classified as Outliers\")\n",
    "plt.xlabel(\"Epsilon Value\")"
   ]
  },
  {
   "cell_type": "code",
   "execution_count": null,
   "id": "0c8b16aa",
   "metadata": {
    "ExecuteTime": {
     "start_time": "2021-07-13T06:16:00.791Z"
    }
   },
   "outputs": [],
   "source": [
    "sns.lineplot(x=np.linspace(0.001,10,100),y=number_of_outliers)\n",
    "plt.ylabel(\"Number of Points Classified as Outliers\")\n",
    "plt.xlabel(\"Epsilon Value\")\n",
    "plt.xlim(0,1)"
   ]
  },
  {
   "cell_type": "markdown",
   "id": "f8dfd8d2",
   "metadata": {},
   "source": [
    "### Do we want to think in terms of percentage targeting instead?\n",
    "\n",
    "If so, you could \"target\" a percentage, like choose a range producing 1%-5% as outliers."
   ]
  },
  {
   "cell_type": "code",
   "execution_count": null,
   "id": "a259ff85",
   "metadata": {
    "ExecuteTime": {
     "start_time": "2021-07-13T06:16:00.793Z"
    }
   },
   "outputs": [],
   "source": [
    "sns.lineplot(x=np.linspace(0.001,10,100),y=outlier_percent)\n",
    "plt.ylabel(\"Percentage of Points Classified as Outliers\")\n",
    "plt.xlabel(\"Epsilon Value\")\n",
    "plt.ylim(0,5)\n",
    "plt.xlim(0,2)\n",
    "plt.hlines(y=1,xmin=0,xmax=2,colors='red',ls='--')"
   ]
  },
  {
   "cell_type": "code",
   "execution_count": null,
   "id": "91e070bd",
   "metadata": {
    "ExecuteTime": {
     "start_time": "2021-07-13T06:16:00.794Z"
    }
   },
   "outputs": [],
   "source": [
    "def display_categories(model,data):\n",
    "    labels = model.fit_predict(data)\n",
    "    sns.scatterplot(data=data,x='SepalWidthCm',y='SepalLengthCm',hue=labels,palette='Set1')"
   ]
  },
  {
   "cell_type": "code",
   "execution_count": null,
   "id": "35b7d936",
   "metadata": {
    "ExecuteTime": {
     "start_time": "2021-07-13T06:16:00.797Z"
    }
   },
   "outputs": [],
   "source": [
    "model = DBSCAN(eps=0.9)"
   ]
  },
  {
   "cell_type": "code",
   "execution_count": null,
   "id": "53906474",
   "metadata": {
    "ExecuteTime": {
     "start_time": "2021-07-13T06:16:00.799Z"
    }
   },
   "outputs": [],
   "source": [
    "display_categories(model, df)"
   ]
  },
  {
   "cell_type": "markdown",
   "id": "bf3c5098",
   "metadata": {},
   "source": [
    "## So the number of optimal clusters for this data set is 3"
   ]
  }
 ],
 "metadata": {
  "kernelspec": {
   "display_name": "Python 3",
   "language": "python",
   "name": "python3"
  },
  "language_info": {
   "codemirror_mode": {
    "name": "ipython",
    "version": 3
   },
   "file_extension": ".py",
   "mimetype": "text/x-python",
   "name": "python",
   "nbconvert_exporter": "python",
   "pygments_lexer": "ipython3",
   "version": "3.8.2"
  }
 },
 "nbformat": 4,
 "nbformat_minor": 5
}
