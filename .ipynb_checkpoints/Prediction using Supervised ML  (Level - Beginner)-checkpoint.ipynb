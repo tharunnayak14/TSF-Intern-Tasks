{
 "cells": [
  {
   "cell_type": "markdown",
   "id": "42773ca4",
   "metadata": {},
   "source": [
    "# Imports"
   ]
  },
  {
   "cell_type": "code",
   "execution_count": 1,
   "id": "e8f1a149",
   "metadata": {
    "ExecuteTime": {
     "end_time": "2021-07-02T06:36:56.740224Z",
     "start_time": "2021-07-02T06:36:55.405106Z"
    }
   },
   "outputs": [],
   "source": [
    "import numpy as np\n",
    "import pandas as pd\n",
    "import matplotlib.pyplot as plt\n",
    "import seaborn as sns\n",
    "plt.style.use('ggplot')"
   ]
  },
  {
   "cell_type": "code",
   "execution_count": 2,
   "id": "21a6eb53",
   "metadata": {
    "ExecuteTime": {
     "end_time": "2021-07-02T06:36:56.865236Z",
     "start_time": "2021-07-02T06:36:56.744199Z"
    }
   },
   "outputs": [],
   "source": [
    "df = pd.read_csv('https://raw.githubusercontent.com/AdiPersonalWorks/Random/master/student_scores%20-%20student_scores.csv')"
   ]
  },
  {
   "cell_type": "code",
   "execution_count": 3,
   "id": "aab8948f",
   "metadata": {
    "ExecuteTime": {
     "end_time": "2021-07-02T06:36:56.897097Z",
     "start_time": "2021-07-02T06:36:56.872134Z"
    }
   },
   "outputs": [
    {
     "data": {
      "text/html": [
       "<div>\n",
       "<style scoped>\n",
       "    .dataframe tbody tr th:only-of-type {\n",
       "        vertical-align: middle;\n",
       "    }\n",
       "\n",
       "    .dataframe tbody tr th {\n",
       "        vertical-align: top;\n",
       "    }\n",
       "\n",
       "    .dataframe thead th {\n",
       "        text-align: right;\n",
       "    }\n",
       "</style>\n",
       "<table border=\"1\" class=\"dataframe\">\n",
       "  <thead>\n",
       "    <tr style=\"text-align: right;\">\n",
       "      <th></th>\n",
       "      <th>Hours</th>\n",
       "      <th>Scores</th>\n",
       "    </tr>\n",
       "  </thead>\n",
       "  <tbody>\n",
       "    <tr>\n",
       "      <th>0</th>\n",
       "      <td>2.5</td>\n",
       "      <td>21</td>\n",
       "    </tr>\n",
       "    <tr>\n",
       "      <th>1</th>\n",
       "      <td>5.1</td>\n",
       "      <td>47</td>\n",
       "    </tr>\n",
       "    <tr>\n",
       "      <th>2</th>\n",
       "      <td>3.2</td>\n",
       "      <td>27</td>\n",
       "    </tr>\n",
       "    <tr>\n",
       "      <th>3</th>\n",
       "      <td>8.5</td>\n",
       "      <td>75</td>\n",
       "    </tr>\n",
       "    <tr>\n",
       "      <th>4</th>\n",
       "      <td>3.5</td>\n",
       "      <td>30</td>\n",
       "    </tr>\n",
       "  </tbody>\n",
       "</table>\n",
       "</div>"
      ],
      "text/plain": [
       "   Hours  Scores\n",
       "0    2.5      21\n",
       "1    5.1      47\n",
       "2    3.2      27\n",
       "3    8.5      75\n",
       "4    3.5      30"
      ]
     },
     "execution_count": 3,
     "metadata": {},
     "output_type": "execute_result"
    }
   ],
   "source": [
    "df.head()"
   ]
  },
  {
   "cell_type": "code",
   "execution_count": 1,
   "id": "122c6157",
   "metadata": {
    "ExecuteTime": {
     "end_time": "2021-07-02T06:46:40.037999Z",
     "start_time": "2021-07-02T06:46:39.866015Z"
    }
   },
   "outputs": [
    {
     "ename": "NameError",
     "evalue": "name 'df' is not defined",
     "output_type": "error",
     "traceback": [
      "\u001b[1;31m---------------------------------------------------------------------------\u001b[0m",
      "\u001b[1;31mNameError\u001b[0m                                 Traceback (most recent call last)",
      "\u001b[1;32m<ipython-input-1-c42a15b2c7cf>\u001b[0m in \u001b[0;36m<module>\u001b[1;34m\u001b[0m\n\u001b[1;32m----> 1\u001b[1;33m \u001b[0mdf\u001b[0m\u001b[1;33m.\u001b[0m\u001b[0mhead\u001b[0m\u001b[1;33m(\u001b[0m\u001b[1;33m)\u001b[0m\u001b[1;33m\u001b[0m\u001b[1;33m\u001b[0m\u001b[0m\n\u001b[0m",
      "\u001b[1;31mNameError\u001b[0m: name 'df' is not defined"
     ]
    }
   ],
   "source": [
    "df.head()"
   ]
  },
  {
   "cell_type": "code",
   "execution_count": 4,
   "id": "ff8d356d",
   "metadata": {
    "ExecuteTime": {
     "end_time": "2021-07-02T06:36:56.914998Z",
     "start_time": "2021-07-02T06:36:56.898276Z"
    }
   },
   "outputs": [
    {
     "name": "stdout",
     "output_type": "stream",
     "text": [
      "<class 'pandas.core.frame.DataFrame'>\n",
      "RangeIndex: 25 entries, 0 to 24\n",
      "Data columns (total 2 columns):\n",
      " #   Column  Non-Null Count  Dtype  \n",
      "---  ------  --------------  -----  \n",
      " 0   Hours   25 non-null     float64\n",
      " 1   Scores  25 non-null     int64  \n",
      "dtypes: float64(1), int64(1)\n",
      "memory usage: 528.0 bytes\n"
     ]
    }
   ],
   "source": [
    "df.info()"
   ]
  },
  {
   "cell_type": "code",
   "execution_count": 5,
   "id": "8c7556bc",
   "metadata": {
    "ExecuteTime": {
     "end_time": "2021-07-02T06:36:56.940960Z",
     "start_time": "2021-07-02T06:36:56.916995Z"
    }
   },
   "outputs": [
    {
     "data": {
      "text/html": [
       "<div>\n",
       "<style scoped>\n",
       "    .dataframe tbody tr th:only-of-type {\n",
       "        vertical-align: middle;\n",
       "    }\n",
       "\n",
       "    .dataframe tbody tr th {\n",
       "        vertical-align: top;\n",
       "    }\n",
       "\n",
       "    .dataframe thead th {\n",
       "        text-align: right;\n",
       "    }\n",
       "</style>\n",
       "<table border=\"1\" class=\"dataframe\">\n",
       "  <thead>\n",
       "    <tr style=\"text-align: right;\">\n",
       "      <th></th>\n",
       "      <th>Hours</th>\n",
       "      <th>Scores</th>\n",
       "    </tr>\n",
       "  </thead>\n",
       "  <tbody>\n",
       "    <tr>\n",
       "      <th>count</th>\n",
       "      <td>25.000000</td>\n",
       "      <td>25.000000</td>\n",
       "    </tr>\n",
       "    <tr>\n",
       "      <th>mean</th>\n",
       "      <td>5.012000</td>\n",
       "      <td>51.480000</td>\n",
       "    </tr>\n",
       "    <tr>\n",
       "      <th>std</th>\n",
       "      <td>2.525094</td>\n",
       "      <td>25.286887</td>\n",
       "    </tr>\n",
       "    <tr>\n",
       "      <th>min</th>\n",
       "      <td>1.100000</td>\n",
       "      <td>17.000000</td>\n",
       "    </tr>\n",
       "    <tr>\n",
       "      <th>25%</th>\n",
       "      <td>2.700000</td>\n",
       "      <td>30.000000</td>\n",
       "    </tr>\n",
       "    <tr>\n",
       "      <th>50%</th>\n",
       "      <td>4.800000</td>\n",
       "      <td>47.000000</td>\n",
       "    </tr>\n",
       "    <tr>\n",
       "      <th>75%</th>\n",
       "      <td>7.400000</td>\n",
       "      <td>75.000000</td>\n",
       "    </tr>\n",
       "    <tr>\n",
       "      <th>max</th>\n",
       "      <td>9.200000</td>\n",
       "      <td>95.000000</td>\n",
       "    </tr>\n",
       "  </tbody>\n",
       "</table>\n",
       "</div>"
      ],
      "text/plain": [
       "           Hours     Scores\n",
       "count  25.000000  25.000000\n",
       "mean    5.012000  51.480000\n",
       "std     2.525094  25.286887\n",
       "min     1.100000  17.000000\n",
       "25%     2.700000  30.000000\n",
       "50%     4.800000  47.000000\n",
       "75%     7.400000  75.000000\n",
       "max     9.200000  95.000000"
      ]
     },
     "execution_count": 5,
     "metadata": {},
     "output_type": "execute_result"
    }
   ],
   "source": [
    "df.describe()"
   ]
  },
  {
   "cell_type": "markdown",
   "id": "128d4c50",
   "metadata": {},
   "source": [
    "# Data Visualizations"
   ]
  },
  {
   "cell_type": "code",
   "execution_count": 6,
   "id": "c0a9285a",
   "metadata": {
    "ExecuteTime": {
     "end_time": "2021-07-02T06:36:57.916239Z",
     "start_time": "2021-07-02T06:36:56.942922Z"
    }
   },
   "outputs": [
    {
     "data": {
      "text/plain": [
       "<seaborn.axisgrid.PairGrid at 0x216310534c0>"
      ]
     },
     "execution_count": 6,
     "metadata": {},
     "output_type": "execute_result"
    },
    {
     "data": {
      "image/png": "[encoded data removed]",
      "text/plain": [
       "<Figure size 360x360 with 6 Axes>"
      ]
     },
     "metadata": {},
     "output_type": "display_data"
    }
   ],
   "source": [
    "sns.pairplot(df)"
   ]
  },
  {
   "cell_type": "code",
   "execution_count": 7,
   "id": "3458ac05",
   "metadata": {
    "ExecuteTime": {
     "end_time": "2021-07-02T06:36:58.189811Z",
     "start_time": "2021-07-02T06:36:57.919237Z"
    }
   },
   "outputs": [
    {
     "data": {
      "text/plain": [
       "<seaborn.axisgrid.FacetGrid at 0x216321fac70>"
      ]
     },
     "execution_count": 7,
     "metadata": {},
     "output_type": "execute_result"
    },
    {
     "data": {
      "image/png": "[encoded data removed]",
      "text/plain": [
       "<Figure size 360x360 with 1 Axes>"
      ]
     },
     "metadata": {},
     "output_type": "display_data"
    }
   ],
   "source": [
    "sns.displot(data=df, x=\"Scores\", bins=20)"
   ]
  },
  {
   "cell_type": "code",
   "execution_count": 8,
   "id": "db48ce35",
   "metadata": {
    "ExecuteTime": {
     "end_time": "2021-07-02T06:36:58.479232Z",
     "start_time": "2021-07-02T06:36:58.191804Z"
    }
   },
   "outputs": [
    {
     "data": {
      "text/plain": [
       "<seaborn.axisgrid.FacetGrid at 0x2163231d520>"
      ]
     },
     "execution_count": 8,
     "metadata": {},
     "output_type": "execute_result"
    },
    {
     "data": {
      "image/png": "[encoded data removed]",
      "text/plain": [
       "<Figure size 360x360 with 1 Axes>"
      ]
     },
     "metadata": {},
     "output_type": "display_data"
    }
   ],
   "source": [
    "sns.displot(data=df, x='Hours',bins=20)"
   ]
  },
  {
   "cell_type": "code",
   "execution_count": 9,
   "id": "a820a913",
   "metadata": {
    "ExecuteTime": {
     "end_time": "2021-07-02T06:36:58.634828Z",
     "start_time": "2021-07-02T06:36:58.481194Z"
    }
   },
   "outputs": [
    {
     "data": {
      "text/plain": [
       "<AxesSubplot:>"
      ]
     },
     "execution_count": 9,
     "metadata": {},
     "output_type": "execute_result"
    },
    {
     "data": {
      "image/png": "[encoded data removed]",
      "text/plain": [
       "<Figure size 432x288 with 2 Axes>"
      ]
     },
     "metadata": {},
     "output_type": "display_data"
    }
   ],
   "source": [
    "sns.heatmap(df.corr(), cmap='viridis', annot=True)"
   ]
  },
  {
   "cell_type": "code",
   "execution_count": 10,
   "id": "593ff41a",
   "metadata": {
    "ExecuteTime": {
     "end_time": "2021-07-02T06:36:58.833126Z",
     "start_time": "2021-07-02T06:36:58.636812Z"
    }
   },
   "outputs": [
    {
     "data": {
      "text/plain": [
       "<AxesSubplot:xlabel='Hours', ylabel='Scores'>"
      ]
     },
     "execution_count": 10,
     "metadata": {},
     "output_type": "execute_result"
    },
    {
     "data": {
      "image/png": "[encoded data removed]",
      "text/plain": [
       "<Figure size 432x288 with 1 Axes>"
      ]
     },
     "metadata": {},
     "output_type": "display_data"
    }
   ],
   "source": [
    "sns.scatterplot(data=df, x=\"Hours\", y=\"Scores\")"
   ]
  },
  {
   "cell_type": "code",
   "execution_count": 11,
   "id": "fe7f0547",
   "metadata": {
    "ExecuteTime": {
     "end_time": "2021-07-02T06:36:59.094932Z",
     "start_time": "2021-07-02T06:36:58.835120Z"
    }
   },
   "outputs": [
    {
     "data": {
      "text/plain": [
       "<AxesSubplot:xlabel='Hours', ylabel='Scores'>"
      ]
     },
     "execution_count": 11,
     "metadata": {},
     "output_type": "execute_result"
    },
    {
     "data": {
      "image/png": "[encoded data removed]",
      "text/plain": [
       "<Figure size 432x288 with 1 Axes>"
      ]
     },
     "metadata": {},
     "output_type": "display_data"
    }
   ],
   "source": [
    "sns.regplot(data=df, x=\"Hours\", y=\"Scores\")"
   ]
  },
  {
   "cell_type": "markdown",
   "id": "933321ec",
   "metadata": {},
   "source": [
    "## We can use np.polyfit for simple regression instead of using sklearn, use help(np.polyfit) for more\n",
    "## Basically this method accepts x,y and degreee of model trying to fit and returns the coefficients (highest order first)"
   ]
  },
  {
   "cell_type": "code",
   "execution_count": 12,
   "id": "26c81f69",
   "metadata": {
    "ExecuteTime": {
     "end_time": "2021-07-02T06:36:59.100922Z",
     "start_time": "2021-07-02T06:36:59.095930Z"
    }
   },
   "outputs": [],
   "source": [
    "x = df['Hours']\n",
    "y = df['Scores']"
   ]
  },
  {
   "cell_type": "code",
   "execution_count": 13,
   "id": "f9415865",
   "metadata": {
    "ExecuteTime": {
     "end_time": "2021-07-02T06:36:59.523321Z",
     "start_time": "2021-07-02T06:36:59.103908Z"
    }
   },
   "outputs": [],
   "source": [
    "from sklearn.model_selection import train_test_split\n",
    "x_train, x_test, y_train, y_test = train_test_split(x,y,test_size=0.3,random_state=101)"
   ]
  },
  {
   "cell_type": "code",
   "execution_count": 14,
   "id": "25d26fff",
   "metadata": {
    "ExecuteTime": {
     "end_time": "2021-07-02T06:36:59.528834Z",
     "start_time": "2021-07-02T06:36:59.525178Z"
    }
   },
   "outputs": [],
   "source": [
    "#help(np.polyfit)"
   ]
  },
  {
   "cell_type": "code",
   "execution_count": 15,
   "id": "02795530",
   "metadata": {
    "ExecuteTime": {
     "end_time": "2021-07-02T06:36:59.540802Z",
     "start_time": "2021-07-02T06:36:59.530828Z"
    }
   },
   "outputs": [
    {
     "data": {
      "text/plain": [
       "array([9.96651548, 2.10249307])"
      ]
     },
     "execution_count": 15,
     "metadata": {},
     "output_type": "execute_result"
    }
   ],
   "source": [
    "np.polyfit(x_train,y_train,1)"
   ]
  },
  {
   "cell_type": "code",
   "execution_count": 16,
   "id": "34ef0e55",
   "metadata": {
    "ExecuteTime": {
     "end_time": "2021-07-02T06:36:59.547492Z",
     "start_time": "2021-07-02T06:36:59.542798Z"
    }
   },
   "outputs": [],
   "source": [
    "def linear_model(future_hours):\n",
    "    return 9.92254902* future_hours + 1.42598039"
   ]
  },
  {
   "cell_type": "code",
   "execution_count": 17,
   "id": "1b918495",
   "metadata": {
    "ExecuteTime": {
     "end_time": "2021-07-02T06:36:59.557136Z",
     "start_time": "2021-07-02T06:36:59.551476Z"
    }
   },
   "outputs": [],
   "source": [
    "future_hours = np.linspace(0,10,100)\n",
    "future_scores = linear_model(future_hours)"
   ]
  },
  {
   "cell_type": "markdown",
   "id": "741f0fa7",
   "metadata": {},
   "source": [
    "## This is our Predicted Linear Regression Model"
   ]
  },
  {
   "cell_type": "code",
   "execution_count": 18,
   "id": "0d58f206",
   "metadata": {
    "ExecuteTime": {
     "end_time": "2021-07-02T06:36:59.696898Z",
     "start_time": "2021-07-02T06:36:59.559126Z"
    }
   },
   "outputs": [
    {
     "data": {
      "text/plain": [
       "[<matplotlib.lines.Line2D at 0x21632b2fee0>]"
      ]
     },
     "execution_count": 18,
     "metadata": {},
     "output_type": "execute_result"
    },
    {
     "data": {
      "image/png": "[encoded data removed]",
      "text/plain": [
       "<Figure size 432x288 with 1 Axes>"
      ]
     },
     "metadata": {},
     "output_type": "display_data"
    }
   ],
   "source": [
    "plt.plot(future_hours,future_scores)"
   ]
  },
  {
   "cell_type": "code",
   "execution_count": 19,
   "id": "4dace6b7",
   "metadata": {
    "ExecuteTime": {
     "end_time": "2021-07-02T06:36:59.919167Z",
     "start_time": "2021-07-02T06:36:59.698492Z"
    }
   },
   "outputs": [
    {
     "data": {
      "image/png": "[encoded data removed]",
      "text/plain": [
       "<Figure size 432x288 with 1 Axes>"
      ]
     },
     "metadata": {},
     "output_type": "display_data"
    }
   ],
   "source": [
    "plt.plot(future_hours,future_scores)\n",
    "sns.scatterplot(x=x_train, y=y_train)\n",
    "plt.xlabel('Hours')\n",
    "plt.ylabel('Scores')\n",
    "plt.show()"
   ]
  },
  {
   "cell_type": "markdown",
   "id": "b3349fe1",
   "metadata": {},
   "source": [
    "# Performance Metrics"
   ]
  },
  {
   "cell_type": "code",
   "execution_count": 20,
   "id": "f9859ce6",
   "metadata": {
    "ExecuteTime": {
     "end_time": "2021-07-02T06:36:59.926097Z",
     "start_time": "2021-07-02T06:36:59.921110Z"
    }
   },
   "outputs": [],
   "source": [
    "predictions = x_test.apply(linear_model)"
   ]
  },
  {
   "cell_type": "code",
   "execution_count": 21,
   "id": "23a7ed31",
   "metadata": {
    "ExecuteTime": {
     "end_time": "2021-07-02T06:36:59.933079Z",
     "start_time": "2021-07-02T06:36:59.928093Z"
    }
   },
   "outputs": [],
   "source": [
    "from sklearn.metrics import mean_absolute_error, mean_squared_error"
   ]
  },
  {
   "cell_type": "code",
   "execution_count": 22,
   "id": "7f49dc35",
   "metadata": {
    "ExecuteTime": {
     "end_time": "2021-07-02T06:36:59.951045Z",
     "start_time": "2021-07-02T06:36:59.940068Z"
    }
   },
   "outputs": [
    {
     "data": {
      "text/plain": [
       "5.851764706000001"
      ]
     },
     "execution_count": 22,
     "metadata": {},
     "output_type": "execute_result"
    }
   ],
   "source": [
    "mae = mean_absolute_error(y_test, predictions)\n",
    "mae"
   ]
  },
  {
   "cell_type": "code",
   "execution_count": 23,
   "id": "52939287",
   "metadata": {
    "ExecuteTime": {
     "end_time": "2021-07-02T06:36:59.966992Z",
     "start_time": "2021-07-02T06:36:59.959011Z"
    }
   },
   "outputs": [
    {
     "data": {
      "text/plain": [
       "6.240077282124798"
      ]
     },
     "execution_count": 23,
     "metadata": {},
     "output_type": "execute_result"
    }
   ],
   "source": [
    "rmse = np.sqrt(mean_squared_error(y_test, predictions))\n",
    "rmse"
   ]
  },
  {
   "cell_type": "code",
   "execution_count": null,
   "id": "408eb171",
   "metadata": {},
   "outputs": [],
   "source": []
  }
 ],
 "metadata": {
  "kernelspec": {
   "display_name": "Python 3",
   "language": "python",
   "name": "python3"
  },
  "language_info": {
   "codemirror_mode": {
    "name": "ipython",
    "version": 3
   },
   "file_extension": ".py",
   "mimetype": "text/x-python",
   "name": "python",
   "nbconvert_exporter": "python",
   "pygments_lexer": "ipython3",
   "version": "3.8.2"
  }
 },
 "nbformat": 4,
 "nbformat_minor": 5
}
